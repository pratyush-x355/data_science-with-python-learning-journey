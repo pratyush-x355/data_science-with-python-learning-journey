{
 "cells": [
  {
   "cell_type": "code",
   "execution_count": 6,
   "metadata": {},
   "outputs": [
    {
     "name": "stdout",
     "output_type": "stream",
     "text": [
      "['capitalize', 'casefold', 'center', 'count', 'encode', 'endswith', 'expandtabs']\n",
      "['find', 'format', 'format_map', 'index', 'isalnum', 'isalpha', 'isascii']\n",
      "['isdecimal', 'isdigit', 'isidentifier', 'islower', 'isnumeric', 'isprintable', 'isspace']\n",
      "['istitle', 'isupper', 'join', 'ljust', 'lower', 'lstrip', 'maketrans']\n",
      "['partition', 'removeprefix', 'removesuffix', 'replace', 'rfind', 'rindex', 'rjust']\n",
      "['rpartition', 'rsplit', 'rstrip', 'split', 'splitlines', 'startswith', 'strip']\n",
      "['swapcase', 'title', 'translate', 'upper', 'zfill']\n"
     ]
    }
   ],
   "source": [
    "# Create a string object\n",
    "my_string = \"Hello, World!\"\n",
    "\n",
    "# Get a list of all methods and attributes\n",
    "methods_and_attributes = dir(my_string)\n",
    "\n",
    "# Filter the list to show only methods (functions)\n",
    "methods = [m for m in methods_and_attributes if callable(getattr(my_string, m))]\n",
    "usable_methods = [m for m in methods if m[:2] != '__']\n",
    "\n",
    "# Print the list of methods\n",
    "#for method in usable_methods:\n",
    "chunk_size = 7\n",
    "#print(usable_methods)\n",
    "for i in range(0, len(usable_methods), chunk_size):\n",
    "        print(usable_methods[i:i+chunk_size])"
   ]
  },
  {
   "cell_type": "markdown",
   "metadata": {},
   "source": [
    "Use the following functions in a string in python: \n",
    "['find', 'format', 'format_map', 'index', 'isalnum', 'isalpha', 'isascii']"
   ]
  },
  {
   "cell_type": "code",
   "execution_count": 11,
   "metadata": {},
   "outputs": [
    {
     "name": "stdout",
     "output_type": "stream",
     "text": [
      "Index of 'brown': 10\n",
      "'cat' not found in the string.\n",
      "Formatted String: Hello, Alice. Today is Monday.\n",
      "Formatted Map String: Hi, Bob. Today is Wednesday.\n",
      "Is Alphanumeric: False\n",
      "Is Alpha: False\n",
      "Is ASCII: True\n"
     ]
    }
   ],
   "source": [
    "# Define a sample string\n",
    "my_string = \"The quick brown fox jumps over the lazy dog.\"\n",
    "\n",
    "# Use string methods to perform various operations\n",
    "# Find the index of a substring in the string\n",
    "index = my_string.find(\"brown\")\n",
    "print(\"Index of 'brown':\", index)   # give the index it starts with\n",
    "\n",
    "# Find the index of a substring in the string (alternative method)\n",
    "try:\n",
    "    index = my_string.index(\"cat\")\n",
    "    print(\"Index of 'cat':\", index)\n",
    "except ValueError:\n",
    "    print(\"'cat' not found in the string.\")\n",
    "\n",
    "# Format a string using placeholders replacment of %d and %s\n",
    "formatted_string = \"Hello, {}. Today is {}.\".format(\"Alice\", \"Monday\")\n",
    "print(\"Formatted String:\", formatted_string)\n",
    "\n",
    "# Format a string using a dictionary - one more enhanced usage of format - format_map\n",
    "data = {\"name\": \"Bob\", \"day\": \"Wednesday\"}\n",
    "formatted_map_string = \"Hi, {name}. Today is {day}.\".format_map(data)\n",
    "print(\"Formatted Map String:\", formatted_map_string)\n",
    "\n",
    "# Check if the string is alphanumeric\n",
    "is_alphanumeric = my_string.isalnum()\n",
    "print(\"Is Alphanumeric:\", is_alphanumeric)\n",
    "\n",
    "# Check if the string is alphabetic\n",
    "is_alpha = my_string.isalpha()\n",
    "print(\"Is Alpha:\", is_alpha)\n",
    "\n",
    "# Check if the string is in ASCII\n",
    "is_ascii = my_string.isascii()\n",
    "print(\"Is ASCII:\", is_ascii)"
   ]
  },
  {
   "cell_type": "code",
   "execution_count": 8,
   "metadata": {},
   "outputs": [
    {
     "name": "stdout",
     "output_type": "stream",
     "text": [
      "['append', 'clear', 'copy', 'count', 'extend', 'index', 'insert']\n",
      "['pop', 'remove', 'reverse', 'sort']\n"
     ]
    }
   ],
   "source": [
    "my_list = [1,2,3]\n",
    "attributes = dir(my_list)\n",
    "usable_methods = [m for m in attributes if m[:2] != '__']\n",
    "\n",
    "chunk_size = 7\n",
    "for i in range(0, len(usable_methods), chunk_size):\n",
    "        print(usable_methods[i:i+chunk_size])"
   ]
  },
  {
   "cell_type": "code",
   "execution_count": 9,
   "metadata": {},
   "outputs": [
    {
     "name": "stdout",
     "output_type": "stream",
     "text": [
      "['count', 'index']\n"
     ]
    }
   ],
   "source": [
    "my_tuple = (1,2,3)\n",
    "attributes = dir(my_tuple)\n",
    "usable_methods = [m for m in attributes if m[:2] != '__']\n",
    "\n",
    "chunk_size = 7\n",
    "for i in range(0, len(usable_methods), chunk_size):\n",
    "        print(usable_methods[i:i+chunk_size])"
   ]
  },
  {
   "cell_type": "code",
   "execution_count": null,
   "metadata": {},
   "outputs": [],
   "source": []
  }
 ],
 "metadata": {
  "kernelspec": {
   "display_name": "tradingInterface",
   "language": "python",
   "name": "python3"
  },
  "language_info": {
   "name": "python",
   "version": "3.10.12"
  },
  "orig_nbformat": 4
 },
 "nbformat": 4,
 "nbformat_minor": 2
}
