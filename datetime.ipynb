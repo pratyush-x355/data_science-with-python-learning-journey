{
 "cells": [
  {
   "cell_type": "code",
   "execution_count": 13,
   "metadata": {},
   "outputs": [],
   "source": [
    "import inspect\n",
    "import datetime as dt\n",
    "# from datetime import datetime, date, time, timedelta, timezone, tzinfo"
   ]
  },
  {
   "cell_type": "markdown",
   "metadata": {},
   "source": [
    "##### Inspect the calsses and member functions inside the class"
   ]
  },
  {
   "cell_type": "code",
   "execution_count": 1,
   "metadata": {},
   "outputs": [
    {
     "ename": "NameError",
     "evalue": "name 'inspect' is not defined",
     "output_type": "error",
     "traceback": [
      "\u001b[0;31m---------------------------------------------------------------------------\u001b[0m",
      "\u001b[0;31mNameError\u001b[0m                                 Traceback (most recent call last)",
      "\u001b[1;32m/Users/pkt/investment_project/python_learning/python_learning/datetime.ipynb Cell 3\u001b[0m line \u001b[0;36m1\n\u001b[0;32m----> <a href='vscode-notebook-cell:/Users/pkt/investment_project/python_learning/python_learning/datetime.ipynb#W2sZmlsZQ%3D%3D?line=0'>1</a>\u001b[0m classes \u001b[39m=\u001b[39m inspect\u001b[39m.\u001b[39mgetmembers(dt, inspect\u001b[39m.\u001b[39misclass)\n\u001b[1;32m      <a href='vscode-notebook-cell:/Users/pkt/investment_project/python_learning/python_learning/datetime.ipynb#W2sZmlsZQ%3D%3D?line=1'>2</a>\u001b[0m dash_line \u001b[39m=\u001b[39m \u001b[39m'\u001b[39m\u001b[39m-\u001b[39m\u001b[39m'\u001b[39m\u001b[39m.\u001b[39mjoin(\u001b[39m\"\u001b[39m\u001b[39m\"\u001b[39m \u001b[39mfor\u001b[39;00m i \u001b[39min\u001b[39;00m \u001b[39mrange\u001b[39m(\u001b[39m1\u001b[39m,\u001b[39m100\u001b[39m))\n\u001b[1;32m      <a href='vscode-notebook-cell:/Users/pkt/investment_project/python_learning/python_learning/datetime.ipynb#W2sZmlsZQ%3D%3D?line=2'>3</a>\u001b[0m chunk_size \u001b[39m=\u001b[39m \u001b[39m5\u001b[39m\n",
      "\u001b[0;31mNameError\u001b[0m: name 'inspect' is not defined"
     ]
    }
   ],
   "source": [
    "classes = inspect.getmembers(dt, inspect.isclass)\n",
    "dash_line = '-'.join(\"\" for i in range(1,100))\n",
    "chunk_size = 5\n",
    "# Will print all the classes and its member funcitons\n",
    "for name, cls in classes:\n",
    "    print(name, cls)\n",
    "    methods = [name for name, member in cls.__dict__.items() if callable(member)]\n",
    "    usable_methods = [m for m in methods if m[:2] != '__']\n",
    "    for i in range(0, len(usable_methods), chunk_size):\n",
    "        print(usable_methods[i:i+chunk_size])\n",
    "    print(dash_line)"
   ]
  },
  {
   "cell_type": "code",
   "execution_count": null,
   "metadata": {},
   "outputs": [],
   "source": [
    "# Important functions in datetime\n",
    "funcs = ['now', 'date', 'time', 'timestamp', 5]"
   ]
  },
  {
   "cell_type": "code",
   "execution_count": 15,
   "metadata": {},
   "outputs": [],
   "source": [
    "funcs = inspect.getmembers(dt,inspect.isfunction)\n",
    "for name, function in funcs:\n",
    "    print(name, function)"
   ]
  },
  {
   "cell_type": "markdown",
   "metadata": {},
   "source": [
    "##### Date class: an idealized naive date, assuming Gregorian calendar"
   ]
  },
  {
   "cell_type": "code",
   "execution_count": 17,
   "metadata": {},
   "outputs": [
    {
     "name": "stdout",
     "output_type": "stream",
     "text": [
      "25 9 2023\n"
     ]
    }
   ],
   "source": [
    "my_date = dt.date(2023, 9, 25) # my_date is an object of the class date with three memebr variables\n",
    "day = my_date.day              # Day is a member variable\n",
    "month = my_date.month          # month\n",
    "year = my_date.year            # year\n",
    "print(day, month, year)"
   ]
  },
  {
   "cell_type": "code",
   "execution_count": 24,
   "metadata": {},
   "outputs": [
    {
     "name": "stdout",
     "output_type": "stream",
     "text": [
      "not all the arguments are string\n",
      "something is out of range\n",
      "2023-09-23\n"
     ]
    }
   ],
   "source": [
    "# write about exception handling here\n",
    "# most of the time we set the date then compare with other dates in a given data sets\n",
    "# hence, quality of user provided date is paramount\n",
    "# day. month or year can only take integer values otherwise return a type error\n",
    "# MINYEAR <= year <= MAXYEAR - Min and max set to 1 and 9999 by default\n",
    "# 1 <= month <= 12\n",
    "# 1 <= day <= number of days in the given month and year: for example february will go till 28th\n",
    "def get_date(day, month, year):\n",
    "    try:\n",
    "        return dt.date(year, month, day)\n",
    "    except TypeError:\n",
    "        return \"not all the arguments are string\"\n",
    "    except ValueError:\n",
    "        return \"something is out of range\"\n",
    "\n",
    "print(get_date('x', 12, 2023))\n",
    "print(get_date(35, 12, 2023))\n",
    "print(get_date(23,9,2023))"
   ]
  },
  {
   "cell_type": "code",
   "execution_count": 20,
   "metadata": {},
   "outputs": [
    {
     "name": "stdout",
     "output_type": "stream",
     "text": [
      "2029-10-25 21:47:48\n"
     ]
    }
   ],
   "source": [
    "# from time stamp is a member function which will set the member variables based on an external timestamp\n",
    "# timestamp is the number of seconds from 1st January 1970 at UTC to a Particular date\n",
    "date_time = dt.datetime.fromtimestamp(1887639468)\n",
    "print(date_time)"
   ]
  },
  {
   "cell_type": "code",
   "execution_count": 22,
   "metadata": {},
   "outputs": [
    {
     "name": "stdout",
     "output_type": "stream",
     "text": [
      "String Representation 2023-09-11\n",
      "<class 'str'>\n"
     ]
    }
   ],
   "source": [
    "today = dt.date.today() # today member funciton provided the today's date\n",
    "\n",
    "# Converting the date to a string\n",
    "strd = dt.date.isoformat(today)\n",
    "print(\"String Representation\", strd)\n",
    "print(type(strd))"
   ]
  },
  {
   "cell_type": "code",
   "execution_count": 3,
   "metadata": {},
   "outputs": [
    {
     "name": "stdout",
     "output_type": "stream",
     "text": [
      "<class 'str'>\n"
     ]
    }
   ],
   "source": [
    "i = 'something'\n",
    "print(type(i))"
   ]
  },
  {
   "cell_type": "code",
   "execution_count": null,
   "metadata": {},
   "outputs": [],
   "source": []
  }
 ],
 "metadata": {
  "kernelspec": {
   "display_name": "tradingInterface",
   "language": "python",
   "name": "python3"
  },
  "language_info": {
   "codemirror_mode": {
    "name": "ipython",
    "version": 3
   },
   "file_extension": ".py",
   "mimetype": "text/x-python",
   "name": "python",
   "nbconvert_exporter": "python",
   "pygments_lexer": "ipython3",
   "version": "3.11.4"
  },
  "orig_nbformat": 4
 },
 "nbformat": 4,
 "nbformat_minor": 2
}
