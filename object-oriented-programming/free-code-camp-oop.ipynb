{
 "cells": [
  {
   "cell_type": "markdown",
   "metadata": {},
   "source": [
    "Defining a class: item in python <br>\n",
    "\n",
    "Remember the class itself only takes other class as parameters: that's inheritance <br>\n",
    "\n",
    "__init___ is a special method to call the constructor and create a object/instance of the class <br>\n",
    "\n",
    "- Class is the blue print \n",
    "- Object is the actual and tangible thing saved in memory representing the blueprint class.\n",
    "- An instance is a specific, unique object created from a class. \n",
    "- The term \"instance\" emphasizes the relationship between the object and the class it was created from. \n",
    "- Every object is an instance of a particular class"
   ]
  },
  {
   "cell_type": "code",
   "execution_count": 3,
   "metadata": {},
   "outputs": [],
   "source": [
    "class Item:\n",
    "    # Any method called in a class take atleast one paramter that is self\n",
    "    # Magic methods: constructors\n",
    "    def __init__(self, name) -> None:\n",
    "        print(f\"A instance created:{name}\")\n",
    "    \n",
    "    def get_total_price(self, x, y):\n",
    "        return x*y"
   ]
  },
  {
   "cell_type": "code",
   "execution_count": 4,
   "metadata": {},
   "outputs": [
    {
     "name": "stdout",
     "output_type": "stream",
     "text": [
      "A instance created:Phone\n",
      "500\n",
      "A instance created:Laptop\n",
      "2000\n"
     ]
    }
   ],
   "source": [
    "item1 = Item(\"Phone\")\n",
    "item1.name = \"Phone\"\n",
    "item1.price = 100\n",
    "item1.quantity = 5\n",
    "print(item1.get_total_price(item1.price, item1.quantity))\n",
    "\n",
    "item2 = Item(\"Laptop\")\n",
    "item2.name = \"Laptop\"\n",
    "item2.price = 1000\n",
    "item2.quantity = 2\n",
    "print(item2.get_total_price(item2.price, item2.quantity))"
   ]
  },
  {
   "cell_type": "markdown",
   "metadata": {},
   "source": [
    "Any attribute like name, price and quantity are the attributes that should be added to the blueprint. <br>\n",
    "\n",
    "These values will be there when we will create the object of the class. <br>\n",
    "\n",
    "Once they are added to the bluprint, they can be access in other method by the default parameter self."
   ]
  },
  {
   "cell_type": "code",
   "execution_count": 5,
   "metadata": {},
   "outputs": [],
   "source": [
    "class Item:\n",
    "    # Any method called in a class take atleast one paramter that is self\n",
    "    # Magic methods: constructors\n",
    "    def __init__(self, name, price, quantity = 0) -> None:\n",
    "        self.name = name\n",
    "        self.price = price\n",
    "        self.quantity = quantity\n",
    "    \n",
    "    def get_total_price(self):\n",
    "        # return x*y\n",
    "        # instead of passing two extra paramters we can use the attributes of self itself\n",
    "        # Self is itself passed as an argument\n",
    "        # We can directly use the attributes to get total price\n",
    "       return self.quantity * self.price"
   ]
  },
  {
   "cell_type": "code",
   "execution_count": 6,
   "metadata": {},
   "outputs": [
    {
     "name": "stdout",
     "output_type": "stream",
     "text": [
      "2000\n",
      "5000\n"
     ]
    }
   ],
   "source": [
    "item1 = Item(\"Phone\", 500)\n",
    "item1.quantity = 4\n",
    "print(item1.get_total_price())\n",
    "\n",
    "item2 = Item(\"Laptop\", 1000,5)\n",
    "print(item2.get_total_price())\n",
    "\n",
    "item2.is_numpad = False"
   ]
  },
  {
   "cell_type": "markdown",
   "metadata": {},
   "source": [
    "##### Error handling in the class method\n",
    "\n",
    "- Check type error using assertion \n",
    "- notice the type hints or type annotations the arguments have\n",
    "- Also, notive that key word arguments comes after the arguments"
   ]
  },
  {
   "cell_type": "code",
   "execution_count": 9,
   "metadata": {},
   "outputs": [],
   "source": [
    "# How to validate the datatype of all class attributes\n",
    "class Item:\n",
    "    # Any method called in a class take atleast one paramter that is self\n",
    "    # Magic methods: constructors\n",
    "    def __init__(self, name: str, price: float, quantity = 0) -> None:\n",
    "        # Run validation to the received arguments\n",
    "        assert price >= 0, f\"price {price} is not greater than or equal to zero\"\n",
    "        assert quantity >= 0, f\"quantity {quantity} is not greater than or equal to zero\"\n",
    "        \n",
    "        # Assign values to the attributes/self object\n",
    "        self.name = name\n",
    "        self.price = price\n",
    "        self.quantity = quantity\n",
    "    \n",
    "    def get_total_price(self):\n",
    "        # return x*y\n",
    "       return self.quantity * self.price"
   ]
  },
  {
   "cell_type": "markdown",
   "metadata": {},
   "source": [
    "Notice the assert doesn't work if you change the attribute for a specific instance"
   ]
  },
  {
   "cell_type": "code",
   "execution_count": 11,
   "metadata": {},
   "outputs": [
    {
     "name": "stdout",
     "output_type": "stream",
     "text": [
      "-100\n",
      "5000\n"
     ]
    }
   ],
   "source": [
    "item1 = Item(\"Phone\", 100)\n",
    "item1.quantity = -1\n",
    "print(item1.get_total_price())\n",
    "\n",
    "item2 = Item(\"Laptop\", 1000, 5)\n",
    "print(item2.get_total_price())\n",
    "\n",
    "item2.is_numpad = False"
   ]
  },
  {
   "cell_type": "markdown",
   "metadata": {},
   "source": [
    "##### Class attributes\n",
    "Class attributes can be accessed by class name or self, representing of an instance while calling attributes or methods\n",
    "- only call class attribute with class name if you don't want to change it in future\n",
    "- Best practice is to call with self if the class level attribute can be modified for each instance\n",
    "- Also it is best pratice to change the class variable only for child class and using a method"
   ]
  },
  {
   "cell_type": "code",
   "execution_count": 15,
   "metadata": {},
   "outputs": [],
   "source": [
    "# Sharing the attributes across all the instances\n",
    "# like magic function/methods there is magic attributes too in a class\n",
    "# we will use __dict__ to see how this works\n",
    "# How to validate the datatype of all class attributes\n",
    "class Item:\n",
    "    pay_rate = 0.8 # class level attribute\n",
    "    # Any method called in a class take atleast one paramter that is self\n",
    "    # Magic methods: constructors\n",
    "    def __init__(self, name: str, price: float, quantity = 0) -> None:\n",
    "        # Run validation to the received arguments\n",
    "        assert price >= 0, f\"price {price} is not greater than or equal to zero\"\n",
    "        assert quantity >= 0, f\"quantity {quantity} is not greater than or equal to zero\"\n",
    "        \n",
    "        # Assign values to the attributes/self object\n",
    "        self.name = name\n",
    "        self.price = price\n",
    "        self.quantity = quantity\n",
    "    \n",
    "    def get_total_price(self):\n",
    "       return self.quantity * self.price\n",
    "    \n",
    "    def get_discounted_price(self):\n",
    "        # only call class attribute with class name if you don't want to change it in future\n",
    "        # return self.price*Item.pay_rate\n",
    "        # Best practice is to call with self if the class level attribute can be modified for each instance\n",
    "        return self.price*self.pay_rate"
   ]
  },
  {
   "cell_type": "markdown",
   "metadata": {},
   "source": [
    "The special method __ dict__ show all the attributed of class and it's instances"
   ]
  },
  {
   "cell_type": "code",
   "execution_count": 16,
   "metadata": {},
   "outputs": [
    {
     "name": "stdout",
     "output_type": "stream",
     "text": [
      "__module__\n",
      "__firstlineno__\n",
      "pay_rate\n",
      "__init__\n",
      "get_total_price\n",
      "get_discounted_price\n",
      "__static_attributes__\n",
      "__dict__\n",
      "__weakref__\n",
      "__doc__\n",
      "____________________\n",
      "{'name': 'Phone', 'price': 100, 'quantity': 4}\n"
     ]
    }
   ],
   "source": [
    "item1 = Item(\"Phone\", 100, 4)\n",
    "for item in Item.__dict__:\n",
    "    print(item)\n",
    "print(\"_\" * 20 )\n",
    "print(item1.__dict__)"
   ]
  },
  {
   "cell_type": "markdown",
   "metadata": {},
   "source": [
    "if we access the class variable \"pay_rate\" using the class name 'Item.pay_rate', then the method 'get_discounted_price' will not work for the second item as shown below"
   ]
  },
  {
   "cell_type": "code",
   "execution_count": 42,
   "metadata": {},
   "outputs": [
    {
     "name": "stdout",
     "output_type": "stream",
     "text": [
      "700.0\n"
     ]
    }
   ],
   "source": [
    "item1 = Item(\"Phone\", 100, 4)\n",
    "#print(item1.get_discounted_price())\n",
    "\n",
    "item2 = Item(\"Laptop\", 1000, 5)\n",
    "item2.pay_rate = 0.7\n",
    "print(item2.get_discounted_price())"
   ]
  },
  {
   "cell_type": "code",
   "execution_count": 17,
   "metadata": {},
   "outputs": [],
   "source": [
    "item1 = Item(\"Phone\", 100, 1)\n",
    "item2 = Item(\"Laptop\", 1000, 3)\n",
    "item3 = Item(\"Cable\", 10, 5)\n",
    "item4 = Item(\"Mouse\", 50, 5)\n",
    "item5 = Item(\"Keyboard\", 75, 5)"
   ]
  },
  {
   "cell_type": "markdown",
   "metadata": {},
   "source": [
    "##### How to keep track of all the instances created for a class\n",
    "- use of magic method __repr__\n",
    "-- Mostly it is a f string that can create the instance of the object from a string \n",
    "\n",
    "Also notice that we are keep a track of all the instances we are creating for a single class using a class variable 'all: list'"
   ]
  },
  {
   "cell_type": "code",
   "execution_count": 22,
   "metadata": {},
   "outputs": [],
   "source": [
    "class Item:\n",
    "    pay_rate = 0.8 # class level attribute\n",
    "    all = []\n",
    "    # Any method called in a class take atleast one paramter that is self\n",
    "    # Magic methods: constructors\n",
    "    def __init__(self, name: str, price: float, quantity = 0) -> None:\n",
    "        # Run validation to the received arguments\n",
    "        assert price >= 0, f\"price {price} is not greater than or equal to zero\"\n",
    "        assert quantity >= 0, f\"quantity {quantity} is not greater than or equal to zero\"\n",
    "        # Assign values to the attributes/self object\n",
    "        self.name = name\n",
    "        self.price = price\n",
    "        self.quantity = quantity\n",
    "        # Executable instances\n",
    "        Item.all.append(self)\n",
    "    \n",
    "    def get_total_price(self):\n",
    "       return self.quantity * self.price\n",
    "    \n",
    "    def get_discounted_price(self):\n",
    "        return self.price*self.pay_rate\n",
    "    \n",
    "    def __repr__(self) -> str:\n",
    "        return f\"Item({self.name},{self.price},{self.quantity})\""
   ]
  },
  {
   "cell_type": "code",
   "execution_count": 23,
   "metadata": {},
   "outputs": [
    {
     "name": "stdout",
     "output_type": "stream",
     "text": [
      "Item(Phone,100,1)\n",
      "Item(Laptop,1000,3)\n",
      "Item(Cable,10,5)\n",
      "Item(Mouse,50,5)\n",
      "Item(Keyboard,75,5)\n"
     ]
    }
   ],
   "source": [
    "item1 = Item(\"Phone\", 100, 1)\n",
    "item2 = Item(\"Laptop\", 1000, 3)\n",
    "item3 = Item(\"Cable\", 10, 5)\n",
    "item4 = Item(\"Mouse\", 50, 5)\n",
    "item5 = Item(\"Keyboard\", 75, 5)\n",
    "for item in Item.all:\n",
    "    print(item)"
   ]
  },
  {
   "cell_type": "markdown",
   "metadata": {},
   "source": [
    "#### introduction to class method"
   ]
  },
  {
   "cell_type": "code",
   "execution_count": null,
   "metadata": {},
   "outputs": [],
   "source": [
    "import pandas as pd\n",
    "\n",
    "class Item:\n",
    "    pay_rate = 0.8 # class level attribute\n",
    "    all = []\n",
    "    item_dict = {\n",
    "        \"name\": [\"Phone\", \"Laptop\", \"Cable\", \"Mouse\", \"Keyboard\"],\n",
    "        \"price\": [100, 1000, 10, 50, 75],\n",
    "        \"quantity\": [1,3,5,5,5]\n",
    "    }\n",
    "    # Any method called in a class take atleast one paramter that is self\n",
    "    # Magic methods: constructors\n",
    "    def __init__(self, name: str, price: float, quantity = 0) -> None:\n",
    "        # Run validation to the received arguments\n",
    "        assert price >= 0, f\"price {price} is not greater than or equal to zero\"\n",
    "        assert quantity >= 0, f\"quantity {quantity} is not greater than or equal to zero\"\n",
    "        # Assign values to the attributes/self object\n",
    "        self.name = name\n",
    "        self.price = price\n",
    "        self.quantity = quantity\n",
    "        # Executable instances\n",
    "        Item.all.append(self)\n",
    "    \n",
    "    def get_total_price(self):\n",
    "       return self.quantity * self.price\n",
    "    \n",
    "    def get_discounted_price(self):\n",
    "        return self.price*self.pay_rate\n",
    "    \n",
    "    @classmethod\n",
    "    def instantaliate_from_dataframe(cls):\n",
    "        df = pd.DataFrame(Item.item_dict)\n",
    "        dict_list = []\n",
    "        # Iterate over each row in the DataFrame\n",
    "        for index, row in df.iterrows():\n",
    "            # Convert the row to a dictionary\n",
    "            row_dict = row.to_dict()\n",
    "            # Append the dictionary to the list\n",
    "            dict_list.append(row_dict)\n",
    "        \n",
    "        for item in dict_list:\n",
    "            Item(\n",
    "                name = item.get(\"name\"),\n",
    "                price = item.get(\"price\"),\n",
    "                quantity = item.get(\"quantity\")\n",
    "            )\n",
    "     \n",
    "    def __repr__(self) -> str:\n",
    "        return f\"Item({self.name},{self.price},{self.quantity})\""
   ]
  },
  {
   "cell_type": "code",
   "execution_count": 62,
   "metadata": {},
   "outputs": [
    {
     "data": {
      "text/plain": [
       "[Item(Phone,100,1),\n",
       " Item(Laptop,1000,3),\n",
       " Item(Cable,10,5),\n",
       " Item(Mouse,50,5),\n",
       " Item(Keyboard,75,5)]"
      ]
     },
     "execution_count": 62,
     "metadata": {},
     "output_type": "execute_result"
    }
   ],
   "source": [
    "Item.instantaliate_from_dataframe()\n",
    "Item.all"
   ]
  },
  {
   "cell_type": "markdown",
   "metadata": {},
   "source": [
    "##### Difference between class and static method"
   ]
  },
  {
   "cell_type": "code",
   "execution_count": 68,
   "metadata": {},
   "outputs": [],
   "source": [
    "class Item:\n",
    "    pay_rate = 0.8 # class level attribute\n",
    "    all = []\n",
    "    item_dict = {\n",
    "        \"name\": [\"Phone\", \"Laptop\", \"Cable\", \"Mouse\", \"Keyboard\"],\n",
    "        \"price\": [100, 1000, 10, 50, 75],\n",
    "        \"quantity\": [1,3,5,5,5]\n",
    "    }\n",
    "    # Any method called in a class take atleast one paramter that is self\n",
    "    # Magic methods: constructors\n",
    "    def __init__(self, name: str, price: float, quantity = 0) -> None:\n",
    "        # Run validation to the received arguments\n",
    "        assert price >= 0, f\"price {price} is not greater than or equal to zero\"\n",
    "        assert quantity >= 0, f\"quantity {quantity} is not greater than or equal to zero\"\n",
    "        # Assign values to the attributes/self object\n",
    "        self.name = name\n",
    "        self.price = price\n",
    "        self.quantity = quantity\n",
    "        # Executable instances\n",
    "        Item.all.append(self)\n",
    "    \n",
    "    def get_total_price(self):\n",
    "       return self.quantity * self.price\n",
    "    \n",
    "    def get_discounted_price(self):\n",
    "        return self.price*self.pay_rate\n",
    "    \n",
    "    @classmethod\n",
    "    def instantaliate_from_dataframe(cls):\n",
    "        df = pd.DataFrame(Item.item_dict)\n",
    "        dict_list = []\n",
    "        # Iterate over each row in the DataFrame\n",
    "        for index, row in df.iterrows():\n",
    "            row_dict = row.to_dict()   # Convert the row to a dictionary\n",
    "            dict_list.append(row_dict) # Append the dictionary to the list\n",
    "        \n",
    "        for item in dict_list:\n",
    "            Item(\n",
    "                name = item.get(\"name\"),\n",
    "                price = item.get(\"price\"),\n",
    "                quantity = item.get(\"quantity\")\n",
    "            )\n",
    "    @staticmethod\n",
    "    def is_integer(num):\n",
    "        if isinstance(num, float):\n",
    "            return num.is_integer()\n",
    "        elif isinstance(num, int):\n",
    "            return True\n",
    "        else:\n",
    "            return False\n",
    "\n",
    "    def __repr__(self) -> str:\n",
    "        return f\"Item({self.name},{self.price},{self.quantity})\""
   ]
  },
  {
   "cell_type": "code",
   "execution_count": 64,
   "metadata": {},
   "outputs": [
    {
     "data": {
      "text/plain": [
       "True"
      ]
     },
     "execution_count": 64,
     "metadata": {},
     "output_type": "execute_result"
    }
   ],
   "source": [
    "Item.is_integer(5.0)"
   ]
  },
  {
   "cell_type": "code",
   "execution_count": 67,
   "metadata": {},
   "outputs": [],
   "source": [
    "class Item:\n",
    "    @staticmethod\n",
    "    def is_integer(num):\n",
    "        # Class or instance object is not called first, it's like any other function outside the class\n",
    "        # This shoud do something that is rellated to class\n",
    "        # However, it is not unique per instance\n",
    "        pass\n",
    "    @classmethod\n",
    "    def create_instance_from_dataframe(cls):\n",
    "        # Class is itself the first object and this type of methods are not used often\n",
    "        # This should do something that has a relationship with the class,\n",
    "        # that are used to instantiate instances of the class\n",
    "        pass\n",
    "    # both static and class method can be called from instances but that is not the best practice\n",
    "    # Call both static and class method from class level"
   ]
  },
  {
   "cell_type": "markdown",
   "metadata": {},
   "source": [
    "#### Inheritance"
   ]
  },
  {
   "cell_type": "code",
   "execution_count": 1,
   "metadata": {},
   "outputs": [],
   "source": [
    "class Item:\n",
    "    pay_rate = 0.8 # class level attribute\n",
    "    all = []\n",
    "    item_dict = {\n",
    "        \"name\": [\"Phone\", \"Laptop\", \"Cable\", \"Mouse\", \"Keyboard\"],\n",
    "        \"price\": [100, 1000, 10, 50, 75],\n",
    "        \"quantity\": [1,3,5,5,5]\n",
    "    }\n",
    "    # Any method called in a class take atleast one paramter that is self\n",
    "    # Magic methods: constructors\n",
    "    def __init__(self, name: str, price: float, quantity = 0) -> None:\n",
    "        # Run validation to the received arguments\n",
    "        assert price >= 0, f\"price {price} is not greater than or equal to zero\"\n",
    "        assert quantity >= 0, f\"quantity {quantity} is not greater than or equal to zero\"\n",
    "        # Assign values to the attributes/self object\n",
    "        self.name = name\n",
    "        self.price = price\n",
    "        self.quantity = quantity\n",
    "        # Executable instances\n",
    "        Item.all.append(self)\n",
    "    \n",
    "    def get_total_price(self):\n",
    "       return self.quantity * self.price\n",
    "    \n",
    "    def get_discounted_price(self):\n",
    "        return self.price*self.pay_rate\n",
    "    \n",
    "    @classmethod\n",
    "    def instantaliate_from_dataframe(cls):\n",
    "        df = pd.DataFrame(Item.item_dict)\n",
    "        dict_list = []\n",
    "        # Iterate over each row in the DataFrame\n",
    "        for index, row in df.iterrows():\n",
    "            row_dict = row.to_dict()   # Convert the row to a dictionary\n",
    "            dict_list.append(row_dict) # Append the dictionary to the list\n",
    "        \n",
    "        for item in dict_list:\n",
    "            Item(\n",
    "                name = item.get(\"name\"),\n",
    "                price = item.get(\"price\"),\n",
    "                quantity = item.get(\"quantity\")\n",
    "            )\n",
    "    @staticmethod\n",
    "    def is_integer(num):\n",
    "        if isinstance(num, float):\n",
    "            return num.is_integer()\n",
    "        elif isinstance(num, int):\n",
    "            return True\n",
    "        else:\n",
    "            return False\n",
    "\n",
    "    def __repr__(self) -> str:\n",
    "        return f\"Item({self.name},{self.price},{self.quantity})\"\n",
    "    \n",
    "class Phone(Item):\n",
    "    all = []\n",
    "    def __init__(self, name: str, price: float, quantity = 0, broken_phones = 0) -> None:\n",
    "        # Run validation to the received arguments\n",
    "        assert price >= 0, f\"price {price} is not greater than or equal to zero\"\n",
    "        assert quantity >= 0, f\"quantity {quantity} is not greater than or equal to zero\"\n",
    "        assert broken_phones >=0, f\"brokenphones {broken_phones} is not greater than or equal to zero\"\n",
    "        # Assign values to the attributes/self object\n",
    "        self.name = name\n",
    "        self.price = price\n",
    "        self.quantity = quantity\n",
    "        self.broken_phone = broken_phones\n",
    "        # Executable instances\n",
    "        Phone.all.append(self)"
   ]
  },
  {
   "cell_type": "code",
   "execution_count": 6,
   "metadata": {},
   "outputs": [],
   "source": [
    "phone1 = Phone(\"Mc1\", 500, 5, 1)\n",
    "phone2 = Phone(\"Mc2\", 1000, 4, 1)\n",
    "print(phone1.get_total_price())"
   ]
  },
  {
   "cell_type": "markdown",
   "metadata": {},
   "source": [
    "##### Inheritance with calling Super().__init__ in the constructor\n",
    "This method call the constructor of super class and inherit all the attributes and mthods called under the super constructor\n",
    "While passing a class while creating another class, all other attributes and methods are anyway inherited. I might be wrong though"
   ]
  },
  {
   "cell_type": "code",
   "execution_count": 36,
   "metadata": {},
   "outputs": [],
   "source": [
    "class Item:\n",
    "    pay_rate = 0.8 # class level attribute\n",
    "    all = []\n",
    "    item_dict = {\n",
    "        \"name\": [\"Phone\", \"Laptop\", \"Cable\", \"Mouse\", \"Keyboard\"],\n",
    "        \"price\": [100, 1000, 10, 50, 75],\n",
    "        \"quantity\": [1,3,5,5,5]\n",
    "    }\n",
    "    # Any method called in a class take atleast one paramter that is self\n",
    "    # Magic methods: constructors\n",
    "    def __init__(self, name: str, price: float, quantity = 0) -> None:\n",
    "        # Run validation to the received arguments\n",
    "        assert price >= 0, f\"price {price} is not greater than or equal to zero\"\n",
    "        assert quantity >= 0, f\"quantity {quantity} is not greater than or equal to zero\"\n",
    "        # Assign values to the attributes/self object\n",
    "        self.name = name\n",
    "        self.price = price\n",
    "        self.quantity = quantity\n",
    "        # Executable instances\n",
    "        Item.all.append(self)\n",
    "    \n",
    "    def get_total_price(self):\n",
    "       return self.quantity * self.price\n",
    "    \n",
    "    def get_discounted_price(self):\n",
    "        return self.price*self.pay_rate\n",
    "    \n",
    "    @classmethod\n",
    "    def instantaliate_from_dataframe(cls):\n",
    "        df = pd.DataFrame(Item.item_dict)\n",
    "        dict_list = []\n",
    "        # Iterate over each row in the DataFrame\n",
    "        for index, row in df.iterrows():\n",
    "            row_dict = row.to_dict()   # Convert the row to a dictionary\n",
    "            dict_list.append(row_dict) # Append the dictionary to the list\n",
    "        \n",
    "        for item in dict_list:\n",
    "            Item(\n",
    "                name = item.get(\"name\"),\n",
    "                price = item.get(\"price\"),\n",
    "                quantity = item.get(\"quantity\")\n",
    "            )\n",
    "    @staticmethod\n",
    "    def is_integer(num):\n",
    "        if isinstance(num, float):\n",
    "            return num.is_integer()\n",
    "        elif isinstance(num, int):\n",
    "            return True\n",
    "        else:\n",
    "            return False\n",
    "\n",
    "    def __repr__(self) -> str:\n",
    "        return f\"{self.__class__.__name__}({self.name},{self.price},{self.quantity})\"\n",
    "    \n",
    "class Phone(Item):\n",
    "    def __init__(self, name: str, price: float, quantity = 0, broken_phones = 0) -> None:\n",
    "        # call to super function to access to all attributes and methods\n",
    "        # I am not sure what method we are talking about?\n",
    "        super().__init__(\n",
    "            name, price, quantity\n",
    "        )\n",
    "        # Run validation to the received arguments\n",
    "        assert broken_phones >=0, f\"brokenphones {broken_phones} is not greater than or equal to zero\"\n",
    "        # Assign values to the attributes/self object\n",
    "        self.broken_phone = broken_phones"
   ]
  },
  {
   "cell_type": "code",
   "execution_count": 37,
   "metadata": {},
   "outputs": [
    {
     "name": "stdout",
     "output_type": "stream",
     "text": [
      "2500\n"
     ]
    }
   ],
   "source": [
    "phone1 = Phone(\"Mc1\", 500, 5, 1)\n",
    "phone2 = Phone(\"Mc2\", 1000, 4, 1)\n",
    "print(phone1.get_total_price())"
   ]
  },
  {
   "cell_type": "markdown",
   "metadata": {},
   "source": [
    "##### Four key principles of large programs\n",
    "\n",
    "###### Encapsulation\n",
    "###### Abstraction\n",
    "###### Inheritance\n",
    "###### Polymorphism"
   ]
  },
  {
   "cell_type": "code",
   "execution_count": 2,
   "metadata": {},
   "outputs": [
    {
     "name": "stdout",
     "output_type": "stream",
     "text": [
      "myItem\n",
      "otherItem\n",
      "-9000\n"
     ]
    }
   ],
   "source": [
    "from item import Item\n",
    "from phone import Phone\n",
    "import pandas as pd\n",
    "\n",
    "# More about getter and setters\n",
    "# How to restict user from editing few read only attributes\n",
    "# How to use \"encapsulation\"\n",
    "# Item.instantaliate_from_dataframe()\n",
    "# print(Item.all)\n",
    "item1 = Item(\"myItem\", 500, 5)\n",
    "print(item1.name)\n",
    "\n",
    "item1.name = \"otherItem\" #execute the setter\n",
    "\n",
    "print(item1.name) # where ever you will use name it will execute proporty decorator\n",
    "\n",
    "item1.price = -9000\n",
    "\n",
    "print(item1.price)"
   ]
  },
  {
   "cell_type": "code",
   "execution_count": null,
   "metadata": {},
   "outputs": [],
   "source": []
  }
 ],
 "metadata": {
  "kernelspec": {
   "display_name": ".venv",
   "language": "python",
   "name": "python3"
  },
  "language_info": {
   "codemirror_mode": {
    "name": "ipython",
    "version": 3
   },
   "file_extension": ".py",
   "mimetype": "text/x-python",
   "name": "python",
   "nbconvert_exporter": "python",
   "pygments_lexer": "ipython3",
   "version": "3.13.0"
  }
 },
 "nbformat": 4,
 "nbformat_minor": 2
}
