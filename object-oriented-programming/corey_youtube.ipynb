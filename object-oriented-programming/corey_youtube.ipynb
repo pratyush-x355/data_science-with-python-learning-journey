{
 "cells": [
  {
   "cell_type": "markdown",
   "id": "7a9f5b6d",
   "metadata": {},
   "source": [
    "Corey - Video 1: Classes and Instances"
   ]
  },
  {
   "cell_type": "markdown",
   "id": "489fe7ae",
   "metadata": {},
   "source": [
    "1.0 Creating an empty employee class. Class has instances as objects which are store in different memory locations"
   ]
  },
  {
   "cell_type": "code",
   "execution_count": 2,
   "id": "1f5be76c",
   "metadata": {},
   "outputs": [
    {
     "name": "stdout",
     "output_type": "stream",
     "text": [
      "<__main__.employee object at 0x107945550>\n",
      "<__main__.employee object at 0x106e4fd90>\n"
     ]
    }
   ],
   "source": [
    "class employee:\n",
    "    pass\n",
    "\n",
    "employee1 = employee()\n",
    "employee2 = employee()\n",
    "\n",
    "print(employee1)\n",
    "print(employee2)"
   ]
  },
  {
   "cell_type": "markdown",
   "id": "da6bd7c6",
   "metadata": {},
   "source": [
    "1.1 Assigning attributes and methods to instances after creating the objects"
   ]
  },
  {
   "cell_type": "code",
   "execution_count": null,
   "id": "cbed30d2",
   "metadata": {},
   "outputs": [],
   "source": [
    "employee1.name = \"John\"\n",
    "employee1.last_name = \"Doe\"\n",
    "employee1.email = \"john.doe@company,com\"\n",
    "\n",
    "employee2.name = \"Test\"\n",
    "employee2.last_name = \"User\"\n",
    "employee2.email = \"test.user@company.com\"\n",
    "\n",
    "print(employee1.email)"
   ]
  },
  {
   "cell_type": "markdown",
   "id": "e8bec95c",
   "metadata": {},
   "source": [
    "1.2 creating a constructor: __init__ initialization. <br>\n",
    "- create attributes and methods within class"
   ]
  },
  {
   "cell_type": "code",
   "execution_count": 15,
   "id": "4820e610",
   "metadata": {},
   "outputs": [],
   "source": [
    "class Employee:\n",
    "    def __init__(self, first, last, pay):\n",
    "        self.first = first\n",
    "        self.last = last\n",
    "        self.pay = pay\n",
    "        self.email = f\"{first}.{last}@company.com\"\n",
    "\n",
    "    def fullname(self): # don't forget the self parameter\n",
    "        return f\"{self.first} {self.last}\""
   ]
  },
  {
   "cell_type": "code",
   "execution_count": 17,
   "id": "cab5fb8c",
   "metadata": {},
   "outputs": [
    {
     "name": "stdout",
     "output_type": "stream",
     "text": [
      "John Doe\n",
      "John Doe\n"
     ]
    },
    {
     "data": {
      "text/plain": [
       "'John Doe'"
      ]
     },
     "execution_count": 17,
     "metadata": {},
     "output_type": "execute_result"
    }
   ],
   "source": [
    "employee1 = Employee(\"John\", \"Doe\", 50000) # we can leave of self\n",
    "employee2 = Employee(\"Test\", \"User\", 60000)\n",
    "\n",
    "print(f\"{employee1.first} {employee1.last}\")\n",
    "\n",
    "print(employee1.fullname())\n",
    "# it get transsfereed to \n",
    "Employee.fullname(employee1)"
   ]
  },
  {
   "cell_type": "markdown",
   "id": "4d422888",
   "metadata": {},
   "source": [
    "##### Video 2"
   ]
  },
  {
   "cell_type": "markdown",
   "id": "575fea4f",
   "metadata": {},
   "source": [
    "2.0 Class Variables. <br>\n",
    "class variables are variables for which the value are shared among all instances"
   ]
  },
  {
   "cell_type": "code",
   "execution_count": 29,
   "id": "706e63b8",
   "metadata": {},
   "outputs": [],
   "source": [
    "# Class Variables: annual increment\n",
    "class Employee:\n",
    "\n",
    "    raise_amount = 1.04  # class variable, shared by all instances\n",
    "    number_of_employees = 0  # another class variable\n",
    "\n",
    "    def __init__(self, first, last, pay):\n",
    "        self.first = first\n",
    "        self.last = last\n",
    "        self.pay = pay\n",
    "        self.email = f\"{first}.{last}@company.com\"\n",
    "\n",
    "        \"\"\"we don't want to override this variable\"\"\"\n",
    "        Employee.number_of_employees += 1  # incrementing class variable\n",
    "        # self.number_of_employees += 1  # this will not work as expected, it will create an instance variable instead of modifying the class variable\n",
    "\n",
    "        \n",
    "    def fullname(self):\n",
    "        return f\"{self.first} {self.last}\"  \n",
    "    \n",
    "    def apply_raise(self):\n",
    "        # self.pay = int(self.pay * raise_amount) # this will not work\n",
    "        self.pay = int(self.pay * self.raise_amount)\n",
    "        # self.pay = int(self.pay * Employee.raise_amount)  # this will work too\n",
    "        # however, if we are using self then it gives us the flexibility to change the class variable later for a specific instance\n",
    "        # any subclass can also override this class variable"
   ]
  },
  {
   "cell_type": "markdown",
   "id": "64626397",
   "metadata": {},
   "source": [
    "class variables can be accessed, called and modified by the instances <br>\n",
    "1. Employee.raise_amount\n",
    "2. employee1.raise_amount = 1.05"
   ]
  },
  {
   "cell_type": "code",
   "execution_count": 4,
   "id": "495450cd",
   "metadata": {},
   "outputs": [
    {
     "name": "stdout",
     "output_type": "stream",
     "text": [
      "1.04\n",
      "1.04\n",
      "1.04\n"
     ]
    }
   ],
   "source": [
    "employee1 = Employee(\"John\", \"Doe\", 50000)\n",
    "employee2 = Employee(\"Test\", \"User\", 60000)\n",
    "\n",
    "print(Employee.raise_amount)  # accessing class variable\n",
    "print(employee1.raise_amount)  # accessing class variable through instance\n",
    "print(employee2.raise_amount)  # accessing class variable through another instance"
   ]
  },
  {
   "cell_type": "markdown",
   "id": "cf25327d",
   "metadata": {},
   "source": [
    "we can't change the class variable directly through an instance, but we can create an instance variable with the same name. <br>\n",
    "to change the class variable, we need to change it through the class name <br>\n",
    "i.e Employee.raise_amount = 1.04  # this will change the class variable for all instances"
   ]
  },
  {
   "cell_type": "code",
   "execution_count": null,
   "id": "807ea49c",
   "metadata": {},
   "outputs": [
    {
     "name": "stdout",
     "output_type": "stream",
     "text": [
      "1.05\n",
      "1.04\n",
      "1.04\n"
     ]
    }
   ],
   "source": [
    "employee1 = Employee(\"John\", \"Doe\", 50000)\n",
    "employee2 = Employee(\"Test\", \"User\", 60000)\n",
    "\n",
    "employee1.raise_amount = 1.05  # this will create an instance variable, it will not change the class variable\n",
    "print(employee1.raise_amount)  # this will print 1.05, as it is an instance variable now\n",
    "print(employee2.raise_amount)  # this will print 1.04, as it is still the class variable\n",
    "print(Employee.raise_amount)  # this will print 1.04, as it is the class variable   "
   ]
  },
  {
   "cell_type": "markdown",
   "id": "d7e4b547",
   "metadata": {},
   "source": [
    "Same example with the the number_of_employee which is a class variable"
   ]
  },
  {
   "cell_type": "code",
   "execution_count": null,
   "id": "918c631d",
   "metadata": {},
   "outputs": [
    {
     "name": "stdout",
     "output_type": "stream",
     "text": [
      "7\n",
      "5\n",
      "7\n",
      "7\n"
     ]
    }
   ],
   "source": [
    "employee1 = Employee(\"John\", \"Doe\", 50000)\n",
    "employee2 = Employee(\"Test\", \"User\", 60000)\n",
    "\n",
    "print(employee1.number_of_employees)\n",
    "\n",
    "Employee.number_of_employees = 5   # this will not change the class variable, it will create an instance variable for employee1\n",
    "print(employee1.number_of_employees)  # this will print 5, as it is an instance variable now\n",
    "print(employee2.number_of_employees)  # this will print 2, as it is still the class variable\n",
    "print(Employee.number_of_employees)  # this will print 2, as it is the class variable"
   ]
  },
  {
   "cell_type": "markdown",
   "id": "e4d15a99",
   "metadata": {},
   "source": [
    "##### Video 3: Regular methods, Class methods and Static methods"
   ]
  },
  {
   "cell_type": "code",
   "execution_count": 15,
   "id": "4640a2dc",
   "metadata": {},
   "outputs": [],
   "source": [
    "# how to convert a regular method to a class method\n",
    "# class methods take cls as the first parameter instead of self\n",
    "class Employee: # class is a keyword, so we cannot use it as a variable name\n",
    "    number_of_employees = 0  # class variable\n",
    "    raise_amount = 1.04  # class variable\n",
    "    \n",
    "    def __init__(self, first, last, pay):\n",
    "        self.first = first\n",
    "        self.last = last\n",
    "        self.pay = pay\n",
    "        self.email = f\"{first}.{last}@company.com\"\n",
    "        Employee.number_of_employees += 1  # incrementing class variable\n",
    "        \n",
    "    def fullname(self):\n",
    "        return f\"{self.first} {self.last}\"\n",
    "    \n",
    "    def apply_raise(self):\n",
    "        self.pay = int(self.pay * self.raise_amount)\n",
    "\n",
    "    @classmethod\n",
    "    def set_raise_amount(cls, amount):\n",
    "        cls.raise_amount = amount  # cls is the class itself, so we can access class variables using cls\n",
    "\n",
    "    # alternative constructor\n",
    "    @classmethod\n",
    "    def from_string(cls, emp_str):\n",
    "        first, last, pay = emp_str.split(\"-\")\n",
    "        return cls(first, last, int(pay))  # cls is the class itself, so we can create an instance using cls"
   ]
  },
  {
   "cell_type": "markdown",
   "id": "ebd1f937",
   "metadata": {},
   "source": [
    "First class method: set_raise_amount() -> above <br>\n",
    "A class method \"set_raise_amount\" to update the raise amount without explicitly changing the class variable"
   ]
  },
  {
   "cell_type": "code",
   "execution_count": null,
   "id": "9b4a2236",
   "metadata": {},
   "outputs": [
    {
     "name": "stdout",
     "output_type": "stream",
     "text": [
      "1.05\n",
      "1.05\n",
      "1.05\n"
     ]
    }
   ],
   "source": [
    "employee1 = Employee(\"John\", \"Doe\", 50000)\n",
    "employee2 = Employee(\"Test\", \"User\", 60000)\n",
    "\n",
    "Employee.set_raise_amount(1.05)  # changing class variable using class method\n",
    "# employee1.set_raise_amount(1.06)  # We can call a class method using an instance, but it is not recommended as it can be confusing\n",
    "\n",
    "print(Employee.raise_amount)   # accessing class variable\n",
    "print(employee1.raise_amount)  # accessing class variable through instance\n",
    "print(employee2.raise_amount)  # accessing class variable through another instance"
   ]
  },
  {
   "cell_type": "markdown",
   "id": "5e520bf3",
   "metadata": {},
   "source": [
    "Class method as an Alternative constructor. <br>\n",
    "\n",
    "Second method: from_string : return a instance of the class, that's why it's called alternative constructor\n",
    "\n",
    "The real world exmple of class methods is the datetime module. <br>\n",
    "We can create datetime objects using different formats like from timestamp, from string, etc. <br>\n",
    "This is done using class methods which provide alternative constructors."
   ]
  },
  {
   "cell_type": "code",
   "execution_count": null,
   "id": "593dbf50",
   "metadata": {},
   "outputs": [
    {
     "name": "stdout",
     "output_type": "stream",
     "text": [
      "John Doe\n",
      "Test User\n",
      "John.Doe@company.com\n",
      "Test.User@company.com\n"
     ]
    },
    {
     "data": {
      "text/plain": [
       "'\\nThe real world exmple of class methods is the datetime module\\nWe can create datetime objects using different formats like from timestamp, from string, etc.\\nThis is done using class methods which provide alternative constructors.\\n'"
      ]
     },
     "execution_count": 18,
     "metadata": {},
     "output_type": "execute_result"
    }
   ],
   "source": [
    "# They use class methods as alternative constructors\n",
    "# what does this mean?\n",
    "# we can use class methods to provide alternative ways to create instances of the class\n",
    "emp_str_1 = \"John-Doe-50000\"\n",
    "emp_str_2 = \"Test-User-60000\"\n",
    "first, last, pay = emp_str_1.split(\"-\")\n",
    "employee1 = Employee(first, last, pay)\n",
    "\n",
    "# or we can use the alternative constructor\n",
    "employee2 = Employee.from_string(emp_str_2)\n",
    "\n",
    "print(employee1.fullname())\n",
    "print(employee2.fullname())\n",
    "print(employee1.email)\n",
    "print(employee2.email)\n",
    "\n"
   ]
  },
  {
   "cell_type": "markdown",
   "id": "db09acdb",
   "metadata": {},
   "source": [
    "Static methods\n",
    "\n",
    "1. regular methods pass self as the first parameter\n",
    "2. class methods pass cls as the first parameter\n",
    "3. static methods do not pass any parameter\n",
    "\n",
    "- statics methods are logically related to the class but do not need access to the class or instance variables. \n",
    "\n",
    "- It starts with an decorator @staticmethod"
   ]
  },
  {
   "cell_type": "code",
   "execution_count": 3,
   "id": "5cb438b0",
   "metadata": {},
   "outputs": [],
   "source": [
    "class Employee: # class is a keyword, so we cannot use it as a variable name\n",
    "    number_of_employees = 0  # class variable\n",
    "    raise_amount = 1.04  # class variable\n",
    "    \n",
    "    def __init__(self, first, last, pay):\n",
    "        self.first = first\n",
    "        self.last = last\n",
    "        self.pay = pay\n",
    "        self.email = f\"{first}.{last}@company.com\"\n",
    "        Employee.number_of_employees += 1  # incrementing class variable\n",
    "        \n",
    "    def fullname(self):\n",
    "        return f\"{self.first} {self.last}\"\n",
    "    \n",
    "    def apply_raise(self):\n",
    "        self.pay = int(self.pay * self.raise_amount)\n",
    "\n",
    "    @classmethod\n",
    "    def set_raise_amount(cls, amount):\n",
    "        cls.raise_amount = amount  # cls is the class itself, so we can access class variables using cls\n",
    "\n",
    "    # alternative constructor\n",
    "    @classmethod\n",
    "    def from_string(cls, emp_str):\n",
    "        first, last, pay = emp_str.split(\"-\")\n",
    "        return cls(first, last, int(pay))  # cls is the class itself, so we can create an instance using cls\n",
    "\n",
    "    @staticmethod\n",
    "    def is_workday(day):\n",
    "        # static method does not need access to class or instance variables\n",
    "        # it can be used to perform some logic that is related to the class but does not need access to class or instance variables\n",
    "        return day.weekday() < 5"
   ]
  },
  {
   "cell_type": "markdown",
   "id": "f3ab54b1",
   "metadata": {},
   "source": [
    "is_workday is used as a static method in class employee."
   ]
  },
  {
   "cell_type": "code",
   "execution_count": 23,
   "id": "fe5df676",
   "metadata": {},
   "outputs": [
    {
     "name": "stdout",
     "output_type": "stream",
     "text": [
      "False\n"
     ]
    }
   ],
   "source": [
    "import datetime\n",
    "\n",
    "my_date = datetime.date(2023, 10, 1)\n",
    "print(Employee.is_workday(my_date))  # True, because it's a Sunday"
   ]
  },
  {
   "cell_type": "markdown",
   "id": "116ce54e",
   "metadata": {},
   "source": [
    "#### Video 4: Inheritance: Creating Subclass"
   ]
  },
  {
   "cell_type": "markdown",
   "id": "637480dd",
   "metadata": {},
   "source": [
    "Sometimes we create subcalsses to handle more informaiton that our parent class can handle\n",
    "\n",
    "The base class will be pass as an argument to the child class. <br>\n",
    "Functionality of base class will be inherited to the child class "
   ]
  },
  {
   "cell_type": "code",
   "execution_count": null,
   "id": "0d4b2637",
   "metadata": {},
   "outputs": [],
   "source": [
    "class Developer(Employee):  # Subclass of Employee\n",
    "    # pass # this will work, but we can add more functionality\n",
    "    raise_amount = 1.10 # overriding class variable for Developer subclass"
   ]
  },
  {
   "cell_type": "markdown",
   "id": "8b333ee4",
   "metadata": {},
   "source": [
    "Creating instances of employee class and developer class"
   ]
  },
  {
   "cell_type": "code",
   "execution_count": 17,
   "id": "f7ccddf9",
   "metadata": {},
   "outputs": [
    {
     "name": "stdout",
     "output_type": "stream",
     "text": [
      "Corey.Schafer@company.com\n",
      "Test.User@company.com\n"
     ]
    }
   ],
   "source": [
    "dev_1 = Employee(\"Corey\", \"Schafer\", 60000)\n",
    "dev_2 = Developer(\"Test\", \"User\", 70000)\n",
    "\n",
    "print(dev_1.email)\n",
    "print(dev_2.email)"
   ]
  },
  {
   "cell_type": "markdown",
   "id": "670ac856",
   "metadata": {},
   "source": [
    "The developer class has overridden the class variable raise_amount. <br>\n",
    "hence, apply_raise applied to an instance of developers class will be different from apply_raise applied to an employee class instance"
   ]
  },
  {
   "cell_type": "code",
   "execution_count": 21,
   "id": "371d8437",
   "metadata": {},
   "outputs": [
    {
     "name": "stdout",
     "output_type": "stream",
     "text": [
      "62400 - before raise\n",
      "64896 - after raise\n",
      "77000 -  before raise\n",
      "84700 - after raise\n"
     ]
    }
   ],
   "source": [
    "print(f\"{dev_1.pay} - before raise\")\n",
    "dev_1.apply_raise()\n",
    "print(f\"{dev_1.pay} - after raise\")\n",
    "\n",
    "print(f\"{dev_2.pay} -  before raise\")\n",
    "dev_2.apply_raise()\n",
    "print(f\"{dev_2.pay} - after raise\")"
   ]
  },
  {
   "cell_type": "markdown",
   "id": "304e96f8",
   "metadata": {},
   "source": [
    "When we want to add more functionlity (attributes and methods) to the child class <br>\n",
    "- First, we have to call the base class constructor using super <br>\n",
    "- or, we can use the class name passed as an argument\n",
    "\n",
    "super() is helpful as a construtor when we have multiple inheritance. How?"
   ]
  },
  {
   "cell_type": "code",
   "execution_count": 24,
   "id": "8174bf5b",
   "metadata": {},
   "outputs": [],
   "source": [
    "class Developer(Employee):  # subclass of Employee\n",
    "    # pass # this will work, but we can add more functionality\n",
    "    raise_amount = 1.10 # overriding class variable for Developer subclass\n",
    "\n",
    "    # if we want to add more functionality, we can override the __init__ method\n",
    "    def __init__(self, first, last, pay, prog_lang):\n",
    "        # it saves us from repeating the code and make the code maintainable\n",
    "        super().__init__(first, last, pay)  # calling the parent class constructor\n",
    "        # Employee.__init__(self, first, last, pay)  # this will also work\n",
    "        self.prog_lang = prog_lang  # adding a new instance variable for Developer subclass"
   ]
  },
  {
   "cell_type": "code",
   "execution_count": 25,
   "id": "ef1da548",
   "metadata": {},
   "outputs": [
    {
     "name": "stdout",
     "output_type": "stream",
     "text": [
      "John.Doe@company.com\n",
      "Java\n"
     ]
    }
   ],
   "source": [
    "dev_1 = Developer(\"John\", \"Doe\", 50000, \"Python\")\n",
    "dev_2 = Developer(\"Test\", \"User\", 60000, \"Java\")\n",
    "\n",
    "print(dev_1.email)\n",
    "print(dev_2.prog_lang)"
   ]
  },
  {
   "cell_type": "markdown",
   "id": "cab6db87",
   "metadata": {},
   "source": [
    "Important note - why we didn't pass an empty list instead of None: we don't want to pass a mutable datatype like a list of a dictionary as default arguments\n",
    "\n",
    "Two things stand out:\n",
    "1. we are inherting from the base class \"Employee\"\n",
    "2. we are also assigning an instance of Employee class to the varialbes \"employees\", which can also access the base class methods and attributes\n",
    "\n",
    "For the second point, there is a key diffrence between inheritance and composition. Please follow \"onenote\" for more instructions"
   ]
  },
  {
   "cell_type": "code",
   "execution_count": null,
   "id": "cbbe76e8",
   "metadata": {},
   "outputs": [],
   "source": [
    "class Manager(Employee):  # subclass of Employee\n",
    "\n",
    "    def __init__(self, first, last, pay, employees=None):\n",
    "        super().__init__(first, last, pay)  # calling the parent class constructor\n",
    "        if employees is None:\n",
    "            self.employees = []  # initializing an empty list if no employees are passed\n",
    "        else:\n",
    "            self.employees = employees\n",
    "    \n",
    "    def add_employee(self, emp):\n",
    "        if emp not in self.employees:\n",
    "            self.employees.append(emp)  # adding an employee to the list\n",
    "\n",
    "    def remove_employee(self, emp):\n",
    "        if emp in self.employees:\n",
    "            self.employees.remove(emp)\n",
    "    \n",
    "    def print_employees(self):\n",
    "        for emp in self.employees:\n",
    "            # this is working because the variables in Employess are object of Employee class\n",
    "            # and we are using the fullname method of Employee class to print the employee's name\n",
    "            print(f\"---> {emp.fullname()}\")  # using the fullname method of Employee class to print the employee's name"
   ]
  },
  {
   "cell_type": "code",
   "execution_count": null,
   "id": "ea5e0c0c",
   "metadata": {},
   "outputs": [
    {
     "name": "stdout",
     "output_type": "stream",
     "text": [
      "Sue.Smith@company.com\n",
      "---> John Doe\n",
      "____________________\n",
      "---> John Doe\n",
      "---> Test User\n",
      "____________________\n",
      "---> Test User\n"
     ]
    }
   ],
   "source": [
    "manager_1 = Manager(\"Sue\", \"Smith\", 90000, [dev_1])\n",
    "\n",
    "print(manager_1.email)  # accessing the email of the manager\n",
    "manager_1.print_employees()  # printing the employees managed by manager_1\n",
    "\n",
    "print(\"_\"*20)\n",
    "manager_1.add_employee(dev_2)  # adding an employee\n",
    "manager_1.print_employees()  # printing the employees managed by manager_1\n",
    "\n",
    "print(\"_\"*20)\n",
    "manager_1.add_employee(dev_2)  # adding an employee\n",
    "manager_1.remove_employee(dev_1)  # removing an employee\n",
    "manager_1.print_employees()  # printing the employees managed by manager_1"
   ]
  },
  {
   "cell_type": "markdown",
   "id": "d0c66934",
   "metadata": {},
   "source": [
    "Two builtin python functions that are really useful and handy\n",
    "\n",
    "1. is_instance\n",
    "2. is_subclass\n",
    "\n",
    "real_world example of subclass - is the exception library"
   ]
  },
  {
   "cell_type": "code",
   "execution_count": 40,
   "id": "d5d0b89e",
   "metadata": {},
   "outputs": [
    {
     "name": "stdout",
     "output_type": "stream",
     "text": [
      "False\n",
      "True\n",
      "False\n",
      "True\n"
     ]
    }
   ],
   "source": [
    "is_instance = isinstance(manager_1, Manager)  # checking if manager_1 is an instance of Manager class\n",
    "print(is_instance)  # True\n",
    "\n",
    "is_instance = isinstance(manager_1, Employee)  # checking if manager_1 is an instance of Employee class\n",
    "print(is_instance)  # True, because Manager is a subclass of Employee\n",
    "\n",
    "is_instance = isinstance(manager_1, Developer)  # checking if dev_1 is an instance of Developer class\n",
    "print(is_instance)  # False\n",
    "\n",
    "is_subclass = issubclass(Manager, Employee)  # checking if Manager is a subclass of Employee\n",
    "print(is_subclass)  # True\n"
   ]
  },
  {
   "cell_type": "markdown",
   "id": "418edf7c",
   "metadata": {},
   "source": [
    "help(developer) is very useful to understand about the methods and attributes and where they came from "
   ]
  },
  {
   "cell_type": "code",
   "execution_count": 7,
   "id": "c5b4f503",
   "metadata": {},
   "outputs": [
    {
     "name": "stdout",
     "output_type": "stream",
     "text": [
      "Help on class Developer in module __main__:\n",
      "\n",
      "class Developer(Employee)\n",
      " |  Developer(first, last, pay)\n",
      " |\n",
      " |  Method resolution order:\n",
      " |      Developer\n",
      " |      Employee\n",
      " |      builtins.object\n",
      " |\n",
      " |  Methods inherited from Employee:\n",
      " |\n",
      " |  __init__(self, first, last, pay)\n",
      " |      Initialize self.  See help(type(self)) for accurate signature.\n",
      " |\n",
      " |  apply_raise(self)\n",
      " |\n",
      " |  fullname(self)\n",
      " |\n",
      " |  ----------------------------------------------------------------------\n",
      " |  Class methods inherited from Employee:\n",
      " |\n",
      " |  from_string(emp_str)\n",
      " |      # alternative constructor\n",
      " |\n",
      " |  set_raise_amount(amount)\n",
      " |\n",
      " |  ----------------------------------------------------------------------\n",
      " |  Static methods inherited from Employee:\n",
      " |\n",
      " |  is_workday(day)\n",
      " |\n",
      " |  ----------------------------------------------------------------------\n",
      " |  Data descriptors inherited from Employee:\n",
      " |\n",
      " |  __dict__\n",
      " |      dictionary for instance variables\n",
      " |\n",
      " |  __weakref__\n",
      " |      list of weak references to the object\n",
      " |\n",
      " |  ----------------------------------------------------------------------\n",
      " |  Data and other attributes inherited from Employee:\n",
      " |\n",
      " |  number_of_employees = 4\n",
      " |\n",
      " |  raise_amount = 1.04\n",
      "\n",
      "None\n"
     ]
    }
   ],
   "source": [
    "print(help(Developer))  # this will show that Developer is a subclass of Employee"
   ]
  },
  {
   "cell_type": "markdown",
   "id": "2a12f92b",
   "metadata": {},
   "source": [
    "#### Video 5: Special (Magic or Dunder methods)"
   ]
  },
  {
   "cell_type": "markdown",
   "id": "7dc41d66",
   "metadata": {},
   "source": [
    "1. Allow us to emulate some built-in methods within python\n",
    "2. How we implement operator overloading\n",
    "\n",
    "Defining our own special methods we can change this bulit-in behaviour and operations. <br>\n",
    "For example \"+\" operator have different operation/behaviour for integer addition and string addition. <br>\n",
    "Similarly, built-in function have some behaviour until we difine them in our code explicitly. <br>\n",
    "\n",
    "These built-in function are always surrounded by double underscrore. That's why people call them dunder"
   ]
  },
  {
   "cell_type": "code",
   "execution_count": 53,
   "id": "8916437c",
   "metadata": {},
   "outputs": [],
   "source": [
    "# Class Variables: annual increment\n",
    "class Employee:\n",
    "\n",
    "    raise_amount = 1.04  # class variable, shared by all instances\n",
    "    number_of_employees = 0  # another class variable\n",
    "\n",
    "    def __init__(self, first, last, pay):\n",
    "        self.first = first\n",
    "        self.last = last\n",
    "        self.pay = pay\n",
    "        self.email = f\"{first}.{last}@company.com\"\n",
    "        \"\"\"we don't want to override this variable\"\"\"\n",
    "        Employee.number_of_employees += 1  # incrementing class variable\n",
    "\n",
    "    def fullname(self):\n",
    "        return f\"{self.first} {self.last}\"  \n",
    "    \n",
    "    def apply_raise(self):\n",
    "        # self.pay = int(self.pay * raise_amount) # this will not work\n",
    "        self.pay = int(self.pay * self.raise_amount)\n",
    "\n",
    "    def __repr__(self) -> str:\n",
    "        # write something that can be used to recreate the object or represent(repr) the object\n",
    "        return f\"Employee('{self.first}', '{self.last}', {self.pay})\"\n",
    "\n",
    "    def __str__(self) -> str:\n",
    "        return f\"{self.fullname()} - {self.email}\"  # this will be used when we print the object\n",
    "    \n",
    "    def __add__(self, other):\n",
    "        if isinstance(other, Employee):\n",
    "            return self.pay + other.pay  # this will add the pay of two employees\n",
    "        \n",
    "    def __len__(self):\n",
    "        return len(self.fullname())"
   ]
  },
  {
   "cell_type": "markdown",
   "id": "36d5d2a5",
   "metadata": {},
   "source": [
    "Most three important dnder methods\n",
    "- 1st - __init__\n",
    "- 2nd - __str__\n",
    "- 3rd - __repr__"
   ]
  },
  {
   "cell_type": "code",
   "execution_count": 50,
   "id": "f2b09f48",
   "metadata": {},
   "outputs": [
    {
     "name": "stdout",
     "output_type": "stream",
     "text": [
      "Employee('John', 'Doe', 50000)\n",
      "John Doe - John.Doe@company.com\n",
      "______the dunder methods will do the same as the built-n methods above______\n",
      "Employee('John', 'Doe', 50000)\n",
      "John Doe - John.Doe@company.com\n"
     ]
    }
   ],
   "source": [
    "employee1 = Employee(\"John\", \"Doe\", 50000)\n",
    "employee2 = Employee(\"Test\", \"User\", 60000)\n",
    "\n",
    "print(repr(employee1))\n",
    "print(str(employee1))  # this will call the __str__ method\"\n",
    "\n",
    "print(\"______the dunder methods will do the same as the built-n methods above______\")\n",
    "print(employee1.__repr__())  # this will call the __repr__ method\n",
    "print(employee1.__str__())  # this will call the __str__ method"
   ]
  },
  {
   "cell_type": "markdown",
   "id": "c232ad24",
   "metadata": {},
   "source": [
    "Other dunder methods\n",
    "- __ add__\n",
    "\n",
    "__add__ is a dunder method that is implemented in integer class differently and string class diffrently <br>\n",
    "similarly if we write what the add operator do in our class, we can add two object of this class and get the result"
   ]
  },
  {
   "cell_type": "code",
   "execution_count": 52,
   "id": "490345f8",
   "metadata": {},
   "outputs": [
    {
     "name": "stdout",
     "output_type": "stream",
     "text": [
      "110000\n"
     ]
    }
   ],
   "source": [
    "# we have added the __add__ method to the Employee class above\n",
    "print(employee1 + employee2)  # this will call the __add__ method, it will add the pay of two employees"
   ]
  },
  {
   "cell_type": "markdown",
   "id": "69415fbd",
   "metadata": {},
   "source": [
    "Other dunder methods:\n",
    "- __ len__"
   ]
  },
  {
   "cell_type": "code",
   "execution_count": 55,
   "id": "e13d88d9",
   "metadata": {},
   "outputs": [
    {
     "name": "stdout",
     "output_type": "stream",
     "text": [
      "8\n"
     ]
    }
   ],
   "source": [
    "employee1 = Employee(\"John\", \"Doe\", 50000)\n",
    "\n",
    "print(len(employee1))  # this will call the __len__ method, it will return the length of the fullname"
   ]
  },
  {
   "cell_type": "markdown",
   "id": "6dfc8cb4",
   "metadata": {},
   "source": [
    "#### Video 6: Getters, setters and deleters"
   ]
  },
  {
   "cell_type": "markdown",
   "id": "6b3420e6",
   "metadata": {},
   "source": [
    "getters and setters concept are borrowed from Java"
   ]
  },
  {
   "cell_type": "markdown",
   "id": "6dd9d17d",
   "metadata": {},
   "source": [
    "In the below example, we have created two attributes using first and last name\n",
    "- email\n",
    "- full name\n",
    "\n",
    "The email attribute is initialized in the constructor, while creating the object\n",
    "The fullname attribute is created using a method which takes self as the parameter\n",
    "\n",
    "Hence, when we changed the first name, the attributes depend upon the first name will not get updated, since we are not calling the constructor again. "
   ]
  },
  {
   "cell_type": "code",
   "execution_count": null,
   "id": "cf294401",
   "metadata": {},
   "outputs": [
    {
     "name": "stdout",
     "output_type": "stream",
     "text": [
      "Corey Doe\n",
      "Employee('Corey', 'Doe')\n",
      "John.Doe@email.com\n"
     ]
    }
   ],
   "source": [
    "class Employee:\n",
    "\n",
    "    def __init__(self, first, last):\n",
    "        self.first = first\n",
    "        self.last = last\n",
    "        self.email = f\"{first}.{last}@email.com\"\n",
    "\n",
    "    def fullname(self):\n",
    "        return f\"{self.first} {self.last}\"\n",
    "\n",
    "    def __repr__(self) -> str:\n",
    "        return f\"Employee('{self.first}', '{self.last}')\"\n",
    "    \n",
    "employee1 = Employee(\"John\", \"Doe\")\n",
    "employee1.first = \"Corey\"  # changing the first name\n",
    "print(employee1.fullname())  # this will print the updated fullname\n",
    "print(repr(employee1))  # this will print the updated representation of the object\n",
    "print(employee1.email)  # This will not update the name as email is only initialized in the constructor"
   ]
  },
  {
   "cell_type": "markdown",
   "id": "9532b4bf",
   "metadata": {},
   "source": [
    "1st option: make the email attribute a mthod like full_name. Two problems with this\n",
    "1. It will break the code for the people already using the library\n",
    "2. The library is used in another code where we want to frequently change the way we view our output"
   ]
  },
  {
   "cell_type": "code",
   "execution_count": 5,
   "id": "71544a8e",
   "metadata": {},
   "outputs": [
    {
     "name": "stdout",
     "output_type": "stream",
     "text": [
      "Corey Doe\n",
      "Employee('Corey', 'Doe')\n",
      "Corey.Doe@email.com\n"
     ]
    }
   ],
   "source": [
    "class Employee:\n",
    "\n",
    "    def __init__(self, first, last):\n",
    "        self.first = first\n",
    "        self.last = last\n",
    "        # self.email = f\"{first}.{last}@email.com\"\n",
    "\n",
    "    def email(self):\n",
    "        return f\"{self.first}.{self.last}@email.com\"\n",
    "\n",
    "    def fullname(self):\n",
    "        return f\"{self.first} {self.last}\"\n",
    "\n",
    "    def __repr__(self) -> str:\n",
    "        return f\"Employee('{self.first}', '{self.last}')\"\n",
    "    \n",
    "employee1 = Employee(\"John\", \"Doe\")\n",
    "employee1.first = \"Corey\"  # changing the first name\n",
    "print(employee1.fullname())  # this will print the updated fullname\n",
    "print(repr(employee1))  # this will print the updated representation of the object\n",
    "print(employee1.email())  # This will not update the name as email is only initialized in the constructor"
   ]
  },
  {
   "cell_type": "markdown",
   "id": "31a9ceda",
   "metadata": {},
   "source": [
    "2nd option: Getter and Setter methods: we can do this using property decorator"
   ]
  },
  {
   "cell_type": "code",
   "execution_count": 7,
   "id": "28045e51",
   "metadata": {},
   "outputs": [
    {
     "name": "stdout",
     "output_type": "stream",
     "text": [
      "Corey Doe\n",
      "Employee('Corey', 'Doe')\n",
      "Corey.Doe@email.com\n"
     ]
    }
   ],
   "source": [
    "class Employee:\n",
    "\n",
    "    def __init__(self, first, last):\n",
    "        self.first = first\n",
    "        self.last = last\n",
    "        # self.email = f\"{first}.{last}@email.com\"\n",
    "    \n",
    "    @property\n",
    "    def email(self):\n",
    "        return f\"{self.first}.{self.last}@email.com\"\n",
    "\n",
    "    @property\n",
    "    def fullname(self):\n",
    "        return f\"{self.first} {self.last}\"\n",
    "\n",
    "    def __repr__(self) -> str:\n",
    "        return f\"Employee('{self.first}', '{self.last}')\"\n",
    "    \n",
    "employee1 = Employee(\"John\", \"Doe\")\n",
    "employee1.first = \"Corey\"  # changing the first name\n",
    "print(employee1.fullname)  # this will print the updated fullname\n",
    "print(repr(employee1))  # this will print the updated representation of the object\n",
    "print(employee1.email)  # This will not update the name as email is only initialized in the constructor"
   ]
  },
  {
   "cell_type": "markdown",
   "id": "a60ce959",
   "metadata": {},
   "source": [
    "Setter method and deleter: Set the initial attributes using a derived attribute"
   ]
  },
  {
   "cell_type": "code",
   "execution_count": 11,
   "id": "8740bd87",
   "metadata": {},
   "outputs": [
    {
     "name": "stdout",
     "output_type": "stream",
     "text": [
      "Corey Schafer\n",
      "Employee('Corey', 'Schafer')\n",
      "Corey.Schafer@email.com\n",
      "Deleting fullname...\n"
     ]
    }
   ],
   "source": [
    "class Employee:\n",
    "\n",
    "    def __init__(self, first, last):\n",
    "        self.first = first\n",
    "        self.last = last\n",
    "        # self.email = f\"{first}.{last}@email.com\"\n",
    "    \n",
    "    @property\n",
    "    def email(self):\n",
    "        return f\"{self.first}.{self.last}@email.com\"\n",
    "\n",
    "    @property\n",
    "    def fullname(self):\n",
    "        return f\"{self.first} {self.last}\"\n",
    "    \n",
    "    @fullname.setter\n",
    "    def fullname(self, name):\n",
    "        first, last = name.split(\" \")\n",
    "        self.first = first\n",
    "        self.last = last\n",
    "\n",
    "    @fullname.deleter\n",
    "    def fullname(self):\n",
    "        print(\"Deleting fullname...\")\n",
    "        self.first = None\n",
    "        self.last = None\n",
    "\n",
    "    def __repr__(self) -> str:\n",
    "        return f\"Employee('{self.first}', '{self.last}')\"\n",
    "    \n",
    "employee1 = Employee(\"John\", \"Doe\")\n",
    "employee1.fullname = \"Corey Schafer\"  # changing the first name\n",
    "print(employee1.fullname)  # this will print the updated fullname\n",
    "print(repr(employee1))  # this will print the updated representation of the object\n",
    "print(employee1.email)  # This will not update the name as email is only initialized in the constructor\n",
    "\n",
    "del employee1.fullname  # this will call the deleter method, it will delete the fullname"
   ]
  },
  {
   "cell_type": "code",
   "execution_count": null,
   "id": "0600e8ef",
   "metadata": {},
   "outputs": [],
   "source": []
  }
 ],
 "metadata": {
  "kernelspec": {
   "display_name": ".venv",
   "language": "python",
   "name": "python3"
  },
  "language_info": {
   "codemirror_mode": {
    "name": "ipython",
    "version": 3
   },
   "file_extension": ".py",
   "mimetype": "text/x-python",
   "name": "python",
   "nbconvert_exporter": "python",
   "pygments_lexer": "ipython3",
   "version": "3.13.0"
  }
 },
 "nbformat": 4,
 "nbformat_minor": 5
}
