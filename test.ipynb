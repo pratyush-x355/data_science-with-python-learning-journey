{
 "cells": [
  {
   "cell_type": "code",
   "execution_count": 7,
   "metadata": {},
   "outputs": [],
   "source": [
    "# Define BrokerAPI1 with its specific buy and sell methods\n",
    "class BrokerAPI1:\n",
    "    def buy(self, amount):\n",
    "        print(f\"BrokerAPI1: Buying {amount} units.\")\n",
    "        # Implement actual buy logic for BrokerAPI1\n",
    "    \n",
    "    def sell(self, amount):\n",
    "        print(f\"BrokerAPI1: Selling {amount} units.\")\n",
    "        # Implement actual sell logic for BrokerAPI1\n",
    "\n",
    "# Define BrokerAPI2 with its specific buy and sell methods\n",
    "class BrokerAPI2:\n",
    "    def buy(self, amount):\n",
    "        print(f\"BrokerAPI2: Buying {amount} units.\")\n",
    "        # Implement actual buy logic for BrokerAPI2\n",
    "    \n",
    "    def sell(self, amount):\n",
    "        print(f\"BrokerAPI2: Selling {amount} units.\")\n",
    "        # Implement actual sell logic for BrokerAPI2"
   ]
  },
  {
   "cell_type": "code",
   "execution_count": 8,
   "metadata": {},
   "outputs": [],
   "source": [
    "# Define the BrokerSelector class\n",
    "class BrokerSelector:\n",
    "    def __init__(self, choice):\n",
    "        if choice == 1:\n",
    "            self.broker = BrokerAPI1()\n",
    "        elif choice == 2:\n",
    "            self.broker = BrokerAPI2()\n",
    "        else:\n",
    "            raise ValueError(\"Invalid choice. Choose 1 for BrokerAPI1 or 2 for BrokerAPI2.\")\n",
    "    \n",
    "    \"\"\"\n",
    "    def buy(self, amount):\n",
    "        self.broker.buy(amount)\n",
    "    \n",
    "    def sell(self, amount):\n",
    "        self.broker.sell(amount)\n",
    "    \"\"\""
   ]
  },
  {
   "cell_type": "code",
   "execution_count": 10,
   "metadata": {},
   "outputs": [
    {
     "name": "stdout",
     "output_type": "stream",
     "text": [
      "BrokerAPI1: Buying 10 units.\n",
      "BrokerAPI1: Selling 5 units.\n",
      "BrokerAPI2: Buying 20 units.\n",
      "BrokerAPI2: Selling 10 units.\n"
     ]
    }
   ],
   "source": [
    "# Create a selector with choice 1\n",
    "selector = BrokerSelector(1)\n",
    "selector.broker.buy(10)  # Calls BrokerAPI1's buy method\n",
    "selector.broker.sell(5)  # Calls BrokerAPI1's sell method\n",
    "\n",
    "# Create a selector with choice 2\n",
    "selector = BrokerSelector(2)\n",
    "selector.broker.buy(20)  # Calls BrokerAPI2's buy method\n",
    "selector.broker.sell(10)  # Calls BrokerAPI2's sell method"
   ]
  }
 ],
 "metadata": {
  "kernelspec": {
   "display_name": "tradingproject",
   "language": "python",
   "name": "python3"
  },
  "language_info": {
   "codemirror_mode": {
    "name": "ipython",
    "version": 3
   },
   "file_extension": ".py",
   "mimetype": "text/x-python",
   "name": "python",
   "nbconvert_exporter": "python",
   "pygments_lexer": "ipython3",
   "version": "3.11.4"
  }
 },
 "nbformat": 4,
 "nbformat_minor": 2
}
