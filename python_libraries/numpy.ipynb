{
 "cells": [
  {
   "cell_type": "code",
   "execution_count": 1,
   "id": "a0fad731",
   "metadata": {},
   "outputs": [
    {
     "name": "stdout",
     "output_type": "stream",
     "text": [
      "<class 'pandas.core.frame.DataFrame'>\n"
     ]
    }
   ],
   "source": [
    "import pandas as pd\n",
    "import numpy as np\n",
    "import inspect\n",
    "df = pd.DataFrame({'a': [1,2,3], 'b':[4,5,6]})\n",
    "print(type(df))"
   ]
  },
  {
   "cell_type": "code",
   "execution_count": 2,
   "id": "79cb5989",
   "metadata": {},
   "outputs": [
    {
     "name": "stdout",
     "output_type": "stream",
     "text": [
      "[6 7 8 9]\n",
      "[[ 2  3  4  5]\n",
      " [11 12 13 14]]\n"
     ]
    }
   ],
   "source": [
    "arr = np.arange(1,5)\n",
    "# Adding scalar to array\n",
    "print(arr + 5)  # [ 6  9 14 21] - 5 is broadcast to match arr's shape\n",
    "\n",
    "# Adding arrays of different shapes\n",
    "arr3 = np.array([[1], [10]])\n",
    "print(arr + arr3)  # [[ 2  5 10 17] [11 14 19 26]]"
   ]
  },
  {
   "cell_type": "code",
   "execution_count": 3,
   "id": "1eec3c9a",
   "metadata": {},
   "outputs": [
    {
     "name": "stdout",
     "output_type": "stream",
     "text": [
      "DataSource <class 'numpy.DataSource'>\n",
      "['abspath', 'exists', 'open']\n",
      "--------------------------------------------------------------------------------\n",
      "RankWarning <class 'numpy.RankWarning'>\n",
      "--------------------------------------------------------------------------------\n",
      "_CopyMode <enum '_CopyMode'>\n",
      "--------------------------------------------------------------------------------\n",
      "bool_ <class 'numpy.bool_'>\n",
      "--------------------------------------------------------------------------------\n",
      "broadcast <class 'numpy.broadcast'>\n",
      "['reset']\n",
      "--------------------------------------------------------------------------------\n",
      "busdaycalendar <class 'numpy.busdaycalendar'>\n",
      "--------------------------------------------------------------------------------\n",
      "byte <class 'numpy.int8'>\n",
      "['bit_count']\n",
      "--------------------------------------------------------------------------------\n",
      "bytes_ <class 'numpy.bytes_'>\n",
      "--------------------------------------------------------------------------------\n",
      "cdouble <class 'numpy.complex128'>\n",
      "--------------------------------------------------------------------------------\n",
      "cfloat <class 'numpy.complex128'>\n",
      "--------------------------------------------------------------------------------\n",
      "character <class 'numpy.character'>\n",
      "--------------------------------------------------------------------------------\n",
      "chararray <class 'numpy.chararray'>\n",
      "['argsort', 'capitalize', 'center', 'count', 'decode', 'encode', 'endswith', 'expandtabs', 'find', 'index']\n",
      "['isalnum', 'isalpha', 'isdigit', 'islower', 'isspace', 'istitle', 'isupper', 'join', 'ljust', 'lower']\n",
      "['lstrip', 'partition', 'replace', 'rfind', 'rindex', 'rjust', 'rpartition', 'rsplit', 'rstrip', 'split']\n",
      "['splitlines', 'startswith', 'strip', 'swapcase', 'title', 'translate', 'upper', 'zfill', 'isnumeric', 'isdecimal']\n",
      "--------------------------------------------------------------------------------\n",
      "clongdouble <class 'numpy.clongdouble'>\n",
      "--------------------------------------------------------------------------------\n",
      "clongfloat <class 'numpy.clongdouble'>\n",
      "--------------------------------------------------------------------------------\n",
      "complex128 <class 'numpy.complex128'>\n",
      "--------------------------------------------------------------------------------\n",
      "complex64 <class 'numpy.complex64'>\n",
      "--------------------------------------------------------------------------------\n",
      "complex_ <class 'numpy.complex128'>\n",
      "--------------------------------------------------------------------------------\n",
      "complexfloating <class 'numpy.complexfloating'>\n",
      "--------------------------------------------------------------------------------\n",
      "csingle <class 'numpy.complex64'>\n",
      "--------------------------------------------------------------------------------\n",
      "datetime64 <class 'numpy.datetime64'>\n",
      "--------------------------------------------------------------------------------\n",
      "double <class 'numpy.float64'>\n",
      "['as_integer_ratio', 'is_integer']\n",
      "--------------------------------------------------------------------------------\n",
      "dtype <class 'numpy.dtype'>\n",
      "['newbyteorder']\n",
      "--------------------------------------------------------------------------------\n",
      "errstate <class 'numpy.errstate'>\n",
      "--------------------------------------------------------------------------------\n",
      "finfo <class 'numpy.finfo'>\n",
      "--------------------------------------------------------------------------------\n",
      "flatiter <class 'numpy.flatiter'>\n",
      "['copy']\n",
      "--------------------------------------------------------------------------------\n",
      "flexible <class 'numpy.flexible'>\n",
      "--------------------------------------------------------------------------------\n",
      "float16 <class 'numpy.float16'>\n",
      "['as_integer_ratio', 'is_integer']\n",
      "--------------------------------------------------------------------------------\n",
      "float32 <class 'numpy.float32'>\n",
      "['as_integer_ratio', 'is_integer']\n",
      "--------------------------------------------------------------------------------\n",
      "float64 <class 'numpy.float64'>\n",
      "['as_integer_ratio', 'is_integer']\n",
      "--------------------------------------------------------------------------------\n",
      "float_ <class 'numpy.float64'>\n",
      "['as_integer_ratio', 'is_integer']\n",
      "--------------------------------------------------------------------------------\n",
      "floating <class 'numpy.floating'>\n",
      "--------------------------------------------------------------------------------\n",
      "format_parser <class 'numpy.format_parser'>\n",
      "--------------------------------------------------------------------------------\n",
      "generic <class 'numpy.generic'>\n",
      "['tolist', 'item', 'itemset', 'tobytes', 'tofile', 'tostring', 'byteswap', 'astype', 'getfield', 'setfield']\n",
      "['copy', 'resize', 'dumps', 'dump', 'fill', 'transpose', 'take', 'put', 'repeat', 'choose']\n",
      "['sort', 'argsort', 'searchsorted', 'argmax', 'argmin', 'reshape', 'squeeze', 'view', 'swapaxes', 'max']\n",
      "['min', 'ptp', 'mean', 'trace', 'diagonal', 'clip', 'conj', 'conjugate', 'nonzero', 'std']\n",
      "['var', 'sum', 'cumsum', 'prod', 'cumprod', 'all', 'any', 'compress', 'flatten', 'ravel']\n",
      "['round', 'setflags', 'newbyteorder']\n",
      "--------------------------------------------------------------------------------\n",
      "half <class 'numpy.float16'>\n",
      "['as_integer_ratio', 'is_integer']\n",
      "--------------------------------------------------------------------------------\n",
      "iinfo <class 'numpy.iinfo'>\n",
      "--------------------------------------------------------------------------------\n",
      "inexact <class 'numpy.inexact'>\n",
      "--------------------------------------------------------------------------------\n",
      "int16 <class 'numpy.int16'>\n",
      "['bit_count']\n",
      "--------------------------------------------------------------------------------\n",
      "int32 <class 'numpy.int32'>\n",
      "['bit_count']\n",
      "--------------------------------------------------------------------------------\n",
      "int64 <class 'numpy.int64'>\n",
      "['bit_count']\n",
      "--------------------------------------------------------------------------------\n",
      "int8 <class 'numpy.int8'>\n",
      "['bit_count']\n",
      "--------------------------------------------------------------------------------\n",
      "int_ <class 'numpy.int64'>\n",
      "['bit_count']\n",
      "--------------------------------------------------------------------------------\n",
      "intc <class 'numpy.int32'>\n",
      "['bit_count']\n",
      "--------------------------------------------------------------------------------\n",
      "integer <class 'numpy.integer'>\n",
      "['is_integer']\n",
      "--------------------------------------------------------------------------------\n",
      "intp <class 'numpy.int64'>\n",
      "['bit_count']\n",
      "--------------------------------------------------------------------------------\n",
      "longcomplex <class 'numpy.clongdouble'>\n",
      "--------------------------------------------------------------------------------\n",
      "longdouble <class 'numpy.longdouble'>\n",
      "['as_integer_ratio', 'is_integer']\n",
      "--------------------------------------------------------------------------------\n",
      "longfloat <class 'numpy.longdouble'>\n",
      "['as_integer_ratio', 'is_integer']\n",
      "--------------------------------------------------------------------------------\n",
      "longlong <class 'numpy.longlong'>\n",
      "['bit_count']\n",
      "--------------------------------------------------------------------------------\n",
      "matrix <class 'numpy.matrix'>\n",
      "['tolist', 'sum', 'squeeze', 'flatten', 'mean', 'std', 'var', 'prod', 'any', 'all']\n",
      "['max', 'argmax', 'min', 'argmin', 'ptp', 'ravel', 'getT', 'getA', 'getA1', 'getH']\n",
      "['getI']\n",
      "--------------------------------------------------------------------------------\n",
      "memmap <class 'numpy.memmap'>\n",
      "['flush']\n",
      "--------------------------------------------------------------------------------\n",
      "ndarray <class 'numpy.ndarray'>\n",
      "['dumps', 'dump', 'all', 'any', 'argmax', 'argmin', 'argpartition', 'argsort', 'astype', 'byteswap']\n",
      "['choose', 'clip', 'compress', 'conj', 'conjugate', 'copy', 'cumprod', 'cumsum', 'diagonal', 'dot']\n",
      "['fill', 'flatten', 'getfield', 'item', 'itemset', 'max', 'mean', 'min', 'newbyteorder', 'nonzero']\n",
      "['partition', 'prod', 'ptp', 'put', 'ravel', 'repeat', 'reshape', 'resize', 'round', 'searchsorted']\n",
      "['setfield', 'setflags', 'sort', 'squeeze', 'std', 'sum', 'swapaxes', 'take', 'tobytes', 'tofile']\n",
      "['tolist', 'tostring', 'trace', 'transpose', 'var', 'view']\n",
      "--------------------------------------------------------------------------------\n",
      "ndenumerate <class 'numpy.ndenumerate'>\n",
      "--------------------------------------------------------------------------------\n",
      "ndindex <class 'numpy.ndindex'>\n",
      "['ndincr']\n",
      "--------------------------------------------------------------------------------\n",
      "nditer <class 'numpy.nditer'>\n",
      "['reset', 'copy', 'iternext', 'remove_axis', 'remove_multi_index', 'enable_external_loop', 'debug_print', 'close']\n",
      "--------------------------------------------------------------------------------\n",
      "number <class 'numpy.number'>\n",
      "--------------------------------------------------------------------------------\n",
      "object_ <class 'numpy.object_'>\n",
      "--------------------------------------------------------------------------------\n",
      "poly1d <class 'numpy.poly1d'>\n",
      "['integ', 'deriv']\n",
      "--------------------------------------------------------------------------------\n",
      "recarray <class 'numpy.recarray'>\n",
      "['field']\n",
      "--------------------------------------------------------------------------------\n",
      "record <class 'numpy.record'>\n",
      "['pprint']\n",
      "--------------------------------------------------------------------------------\n",
      "short <class 'numpy.int16'>\n",
      "['bit_count']\n",
      "--------------------------------------------------------------------------------\n",
      "signedinteger <class 'numpy.signedinteger'>\n",
      "--------------------------------------------------------------------------------\n",
      "single <class 'numpy.float32'>\n",
      "['as_integer_ratio', 'is_integer']\n",
      "--------------------------------------------------------------------------------\n",
      "singlecomplex <class 'numpy.complex64'>\n",
      "--------------------------------------------------------------------------------\n",
      "str_ <class 'numpy.str_'>\n",
      "--------------------------------------------------------------------------------\n",
      "string_ <class 'numpy.bytes_'>\n",
      "--------------------------------------------------------------------------------\n",
      "timedelta64 <class 'numpy.timedelta64'>\n",
      "--------------------------------------------------------------------------------\n",
      "ubyte <class 'numpy.uint8'>\n",
      "['bit_count']\n",
      "--------------------------------------------------------------------------------\n",
      "ufunc <class 'numpy.ufunc'>\n",
      "['reduce', 'accumulate', 'reduceat', 'outer', 'at', 'resolve_dtypes']\n",
      "--------------------------------------------------------------------------------\n",
      "uint <class 'numpy.uint64'>\n",
      "['bit_count']\n",
      "--------------------------------------------------------------------------------\n",
      "uint16 <class 'numpy.uint16'>\n",
      "['bit_count']\n",
      "--------------------------------------------------------------------------------\n",
      "uint32 <class 'numpy.uint32'>\n",
      "['bit_count']\n",
      "--------------------------------------------------------------------------------\n",
      "uint64 <class 'numpy.uint64'>\n",
      "['bit_count']\n",
      "--------------------------------------------------------------------------------\n",
      "uint8 <class 'numpy.uint8'>\n",
      "['bit_count']\n",
      "--------------------------------------------------------------------------------\n",
      "uintc <class 'numpy.uint32'>\n",
      "['bit_count']\n",
      "--------------------------------------------------------------------------------\n",
      "uintp <class 'numpy.uint64'>\n",
      "['bit_count']\n",
      "--------------------------------------------------------------------------------\n",
      "ulonglong <class 'numpy.ulonglong'>\n",
      "['bit_count']\n",
      "--------------------------------------------------------------------------------\n",
      "unicode_ <class 'numpy.str_'>\n",
      "--------------------------------------------------------------------------------\n",
      "unsignedinteger <class 'numpy.unsignedinteger'>\n",
      "--------------------------------------------------------------------------------\n",
      "ushort <class 'numpy.uint16'>\n",
      "['bit_count']\n",
      "--------------------------------------------------------------------------------\n",
      "vectorize <class 'numpy.vectorize'>\n",
      "--------------------------------------------------------------------------------\n",
      "void <class 'numpy.void'>\n",
      "['getfield', 'setfield']\n",
      "--------------------------------------------------------------------------------\n"
     ]
    }
   ],
   "source": [
    "classes = inspect.getmembers(np, inspect.isclass)\n",
    "dash_line = '-' * 80\n",
    "chunk_size = 10\n",
    "# Will print all the classes and its member funcitons\n",
    "for name, cls in classes:\n",
    "    print(name, cls)\n",
    "    methods = [name for name, member in cls.__dict__.items() if callable(member)]\n",
    "    usable_methods = [m for m in methods if m[:1] != '_']\n",
    "    for i in range(0, len(usable_methods), chunk_size):\n",
    "        print(usable_methods[i:i+chunk_size])\n",
    "    print(dash_line)"
   ]
  },
  {
   "cell_type": "code",
   "execution_count": 2,
   "id": "e1016490",
   "metadata": {},
   "outputs": [],
   "source": [
    "import numpy as np\n",
    "# Create a 2D array\n",
    "arr2d = np.array([[1, 2, 3], [4, 5, 6]])"
   ]
  },
  {
   "cell_type": "code",
   "execution_count": 3,
   "id": "c71852e0",
   "metadata": {},
   "outputs": [
    {
     "data": {
      "text/plain": [
       "array([[1, 2, 3],\n",
       "       [4, 5, 6]])"
      ]
     },
     "execution_count": 3,
     "metadata": {},
     "output_type": "execute_result"
    }
   ],
   "source": [
    "arr2d"
   ]
  },
  {
   "cell_type": "code",
   "execution_count": 4,
   "id": "451697ae",
   "metadata": {},
   "outputs": [
    {
     "data": {
      "text/plain": [
       "array([2, 5])"
      ]
     },
     "execution_count": 4,
     "metadata": {},
     "output_type": "execute_result"
    }
   ],
   "source": [
    "arr2d[:, 1]  # Access all rows, second column"
   ]
  },
  {
   "cell_type": "code",
   "execution_count": 5,
   "id": "07749ac6",
   "metadata": {},
   "outputs": [],
   "source": [
    "arr2d = np.array([[1, 2, 3, 4], [4, 5, 6, 7], [7, 8, 9, 10]])"
   ]
  },
  {
   "cell_type": "code",
   "execution_count": 6,
   "id": "7c61a2cd",
   "metadata": {},
   "outputs": [
    {
     "data": {
      "text/plain": [
       "array([[ 1,  2,  3,  4],\n",
       "       [ 4,  5,  6,  7],\n",
       "       [ 7,  8,  9, 10]])"
      ]
     },
     "execution_count": 6,
     "metadata": {},
     "output_type": "execute_result"
    }
   ],
   "source": [
    "arr2d"
   ]
  },
  {
   "cell_type": "code",
   "execution_count": 7,
   "id": "68dd9e9a",
   "metadata": {},
   "outputs": [
    {
     "data": {
      "text/plain": [
       "(3, 4)"
      ]
     },
     "execution_count": 7,
     "metadata": {},
     "output_type": "execute_result"
    }
   ],
   "source": [
    "arr2d.shape  # Output: (2, 3) - 2 rows and 3 columns"
   ]
  },
  {
   "cell_type": "code",
   "execution_count": 9,
   "id": "9b00927e",
   "metadata": {},
   "outputs": [
    {
     "data": {
      "text/plain": [
       "array([12, 15, 18, 21])"
      ]
     },
     "execution_count": 9,
     "metadata": {},
     "output_type": "execute_result"
    }
   ],
   "source": [
    "arr2d.sum(axis=0)  # Sum along the first axis (columns)\n",
    "# are we adding the columns? Yes, we are summing the columns"
   ]
  },
  {
   "cell_type": "code",
   "execution_count": null,
   "id": "c035d845",
   "metadata": {},
   "outputs": [
    {
     "ename": "",
     "evalue": "",
     "output_type": "error",
     "traceback": [
      "\u001b[1;31mThe kernel failed to start as the Python Environment '.env (Python -1.-1.-1)' is no longer available. Consider selecting another kernel or refreshing the list of Python Environments."
     ]
    }
   ],
   "source": [
    "import time\n",
    "x1 = [9, 2, 5, 0, 0, 7, 5, 0, 0, 0, 9, 2, 5, 0, 0]\n",
    "x2 = [9, 2, 2, 9, 0, 9, 2, 5, 0, 0, 9, 2, 5, 0, 0]"
   ]
  },
  {
   "cell_type": "code",
   "execution_count": null,
   "id": "fec8f3c2",
   "metadata": {},
   "outputs": [],
   "source": [
    "\n",
    "### CLASSIC GENERAL DOT PRODUCT IMPLEMENTATION ###\n",
    "W = np.random.rand(3,len(x1)) # Random 3*len(x1) numpy array\n",
    "tic = time.process_time()\n",
    "gdot = np.zeros(W.shape[0])\n",
    "\n",
    "for i in range(W.shape[0]):\n",
    "    for j in range(len(x1)):\n",
    "        gdot[i] += W[i,j] * x1[j]\n",
    "toc = time.process_time()\n",
    "print (\"gdot = \" + str(gdot) + \"\\n ----- Computation time = \" + str(1000 * (toc - tic)) + \"ms\")"
   ]
  }
 ],
 "metadata": {
  "kernelspec": {
   "display_name": ".env",
   "language": "python",
   "name": "python3"
  },
  "language_info": {
   "codemirror_mode": {
    "name": "ipython",
    "version": 3
   },
   "file_extension": ".py",
   "mimetype": "text/x-python",
   "name": "python",
   "nbconvert_exporter": "python",
   "pygments_lexer": "ipython3",
   "version": "undefined.undefined.undefined"
  }
 },
 "nbformat": 4,
 "nbformat_minor": 5
}
