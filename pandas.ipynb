{
 "cells": [
  {
   "cell_type": "code",
   "execution_count": 1,
   "metadata": {},
   "outputs": [
    {
     "name": "stdout",
     "output_type": "stream",
     "text": [
      "<class 'pandas.core.frame.DataFrame'>\n"
     ]
    }
   ],
   "source": [
    "import pandas as pd\n",
    "df = pd.DataFrame({'a': [1,2,3], 'b':[4,5,6]})\n",
    "print(type(df))"
   ]
  },
  {
   "cell_type": "code",
   "execution_count": 8,
   "metadata": {},
   "outputs": [
    {
     "name": "stdout",
     "output_type": "stream",
     "text": [
      "['abs', 'add', 'add_prefix', 'add_suffix', 'agg', 'aggregate', 'align', 'all', 'any', 'apply']\n",
      "['applymap', 'asfreq', 'asof', 'assign', 'astype', 'at_time', 'backfill', 'between_time', 'bfill', 'bool']\n",
      "['boxplot', 'clip', 'combine', 'combine_first', 'compare', 'convert_dtypes', 'copy', 'corr', 'corrwith', 'count']\n",
      "['cov', 'cummax', 'cummin', 'cumprod', 'cumsum', 'describe', 'diff', 'div', 'divide', 'dot']\n",
      "['drop', 'drop_duplicates', 'droplevel', 'dropna', 'duplicated', 'eq', 'equals', 'eval', 'ewm', 'expanding']\n",
      "['explode', 'ffill', 'fillna', 'filter', 'first', 'first_valid_index', 'floordiv', 'from_dict', 'from_records', 'ge']\n",
      "['get', 'groupby', 'gt', 'head', 'hist', 'idxmax', 'idxmin', 'iloc', 'infer_objects', 'info']\n",
      "['insert', 'interpolate', 'isetitem', 'isin', 'isna', 'isnull', 'items', 'iterrows', 'itertuples', 'join']\n",
      "['keys', 'kurt', 'kurtosis', 'last', 'last_valid_index', 'le', 'loc', 'lt', 'mask', 'max']\n",
      "['mean', 'median', 'melt', 'memory_usage', 'merge', 'min', 'mod', 'mode', 'mul', 'multiply']\n",
      "['ne', 'nlargest', 'notna', 'notnull', 'nsmallest', 'nunique', 'pad', 'pct_change', 'pipe', 'pivot']\n",
      "['pivot_table', 'plot', 'pop', 'pow', 'prod', 'product', 'quantile', 'query', 'radd', 'rank']\n",
      "['rdiv', 'reindex', 'reindex_like', 'rename', 'rename_axis', 'reorder_levels', 'replace', 'resample', 'reset_index', 'rfloordiv']\n",
      "['rmod', 'rmul', 'rolling', 'round', 'rpow', 'rsub', 'rtruediv', 'sample', 'select_dtypes', 'sem']\n",
      "['set_axis', 'set_flags', 'set_index', 'shift', 'skew', 'sort_index', 'sort_values', 'squeeze', 'stack', 'std']\n",
      "['sub', 'subtract', 'sum', 'swapaxes', 'swaplevel', 'tail', 'take', 'to_clipboard', 'to_csv', 'to_dict']\n",
      "['to_excel', 'to_feather', 'to_gbq', 'to_hdf', 'to_html', 'to_json', 'to_latex', 'to_markdown', 'to_numpy', 'to_orc']\n",
      "['to_parquet', 'to_period', 'to_pickle', 'to_records', 'to_sql', 'to_stata', 'to_string', 'to_timestamp', 'to_xarray', 'to_xml']\n",
      "['transform', 'transpose', 'truediv', 'truncate', 'tz_convert', 'tz_localize', 'unstack', 'update', 'value_counts', 'var']\n",
      "['where', 'xs']\n"
     ]
    }
   ],
   "source": [
    "modules  = dir(df)\n",
    "methods = [m for m in modules if callable(getattr(df, m))]\n",
    "usable_methods = [m for m in methods if m[:1] != '_']\n",
    "\n",
    "# Print the list of methods\n",
    "#for method in usable_methods:\n",
    "chunk_size = 10\n",
    "#print(usable_methods)\n",
    "for i in range(0, len(usable_methods), chunk_size): \n",
    "        print(usable_methods[i:i+chunk_size])"
   ]
  },
  {
   "cell_type": "markdown",
   "metadata": {},
   "source": [
    "How quantile in a Dataframe works"
   ]
  },
  {
   "cell_type": "code",
   "execution_count": 9,
   "metadata": {},
   "outputs": [
    {
     "name": "stdout",
     "output_type": "stream",
     "text": [
      "25th Percentiles:\n",
      "A    20.0\n",
      "B    25.0\n",
      "C    24.0\n",
      "Name: 0.25, dtype: float64 <class 'pandas.core.series.Series'>\n",
      "\n",
      "Medians (50th Percentiles):\n",
      "A    30.0\n",
      "B    35.0\n",
      "C    36.0\n",
      "Name: 0.5, dtype: float64\n",
      "\n",
      "75th Percentiles:\n",
      "A    40.0\n",
      "B    45.0\n",
      "C    48.0\n",
      "Name: 0.75, dtype: float64\n"
     ]
    }
   ],
   "source": [
    "import pandas as pd\n",
    "\n",
    "# Sample DataFrame\n",
    "data = {\n",
    "    'A': [10, 20, 30, 40, 50],\n",
    "    'B': [15, 25, 35, 45, 55],\n",
    "    'C': [12, 24, 36, 48, 60]\n",
    "}\n",
    "df = pd.DataFrame(data)\n",
    "\n",
    "# Calculate the 25th, 50th (median), and 75th percentiles for all columns\n",
    "quantiles = df.quantile([0.25, 0.5, 0.75])\n",
    "\n",
    "# Accessing specific percentiles\n",
    "q25 = quantiles.loc[0.25]\n",
    "median = quantiles.loc[0.5]\n",
    "q75 = quantiles.loc[0.75]\n",
    "\n",
    "print(\"25th Percentiles:\")\n",
    "print(q25, type(q25))\n",
    "\n",
    "print(\"\\nMedians (50th Percentiles):\")\n",
    "print(median)\n",
    "\n",
    "print(\"\\n75th Percentiles:\")\n",
    "print(q75)"
   ]
  },
  {
   "cell_type": "markdown",
   "metadata": {},
   "source": [
    "Use of covariance fucntion in pandas dataframe - by default columns are used"
   ]
  },
  {
   "cell_type": "code",
   "execution_count": 11,
   "metadata": {},
   "outputs": [
    {
     "name": "stdout",
     "output_type": "stream",
     "text": [
      "Covariance between 'X' and 'Y': 2.5\n",
      "\n",
      "Covariance Matrix:\n",
      "     X    Y    Z\n",
      "X  2.5  2.5 -2.5\n",
      "Y  2.5  2.5 -2.5\n",
      "Z -2.5 -2.5  2.5\n"
     ]
    }
   ],
   "source": [
    "import pandas as pd\n",
    "\n",
    "# Sample DataFrame\n",
    "data = {\n",
    "    'X': [1, 2, 3, 4, 5],\n",
    "    'Y': [2, 3, 4, 5, 6],\n",
    "    'Z': [5, 4, 3, 2, 1]\n",
    "}\n",
    "df = pd.DataFrame(data)\n",
    "\n",
    "# Calculate the covariance between columns 'X' and 'Y'\n",
    "cov_XY = df['X'].cov(df['Y'])\n",
    "print(\"Covariance between 'X' and 'Y':\", cov_XY)\n",
    "\n",
    "# Calculate the covariance matrix for all columns\n",
    "cov_matrix = df.cov()\n",
    "print(\"\\nCovariance Matrix:\")\n",
    "print(cov_matrix)"
   ]
  },
  {
   "cell_type": "markdown",
   "metadata": {},
   "source": [
    "cummax, cummin, cumprod, cumsum - by default they run on the index(axis = 0)"
   ]
  },
  {
   "cell_type": "code",
   "execution_count": 15,
   "metadata": {},
   "outputs": [
    {
     "name": "stdout",
     "output_type": "stream",
     "text": [
      "Cumulative Maximum:\n",
      "    A   B\n",
      "0  1  10\n",
      "1  3  20\n",
      "2  3  20\n",
      "3  5  25\n",
      "\n",
      "Cumulative Minimum:\n",
      "    A   B\n",
      "0  1  10\n",
      "1  1  10\n",
      "2  1  10\n",
      "3  1  10\n",
      "\n",
      "Cumulative Product:\n",
      "     A      B\n",
      "0   1     10\n",
      "1   3    200\n",
      "2   6   3000\n",
      "3  30  75000\n",
      "\n",
      "Cumulative Sum:\n",
      "     A   B\n",
      "0   1  10\n",
      "1   4  30\n",
      "2   6  45\n",
      "3  11  70\n"
     ]
    }
   ],
   "source": [
    "import pandas as pd\n",
    "\n",
    "# Create a sample DataFrame\n",
    "data = {\n",
    "    'A': [1, 3, 2, 5],\n",
    "    'B': [10, 20, 15, 25]\n",
    "}\n",
    "df = pd.DataFrame(data)\n",
    "\n",
    "# Compute cumulative maximum for each column\n",
    "cum_max_df = df.cummax()\n",
    "print(\"Cumulative Maximum:\\n\", cum_max_df)\n",
    "\n",
    "# Compute cumulative minimum for each column\n",
    "cum_min_df = df.cummin()\n",
    "print(\"\\nCumulative Minimum:\\n\", cum_min_df)\n",
    "\n",
    "# Compute cumulative product for each column\n",
    "cum_prod_df = df.cumprod()\n",
    "print(\"\\nCumulative Product:\\n\", cum_prod_df)\n",
    "\n",
    "# Compute cumulative sum for each column\n",
    "cum_sum_df = df.cumsum()\n",
    "print(\"\\nCumulative Sum:\\n\", cum_sum_df)"
   ]
  },
  {
   "cell_type": "code",
   "execution_count": 14,
   "metadata": {},
   "outputs": [
    {
     "name": "stdout",
     "output_type": "stream",
     "text": [
      "Index: 0, Name: Alice, Age: 25\n",
      "Index: 1, Name: Bob, Age: 30\n",
      "Index: 2, Name: Charlie, Age: 35\n",
      "Name: Alice, Age: 25\n",
      "Name: Bob, Age: 30\n",
      "Name: Charlie, Age: 35\n"
     ]
    }
   ],
   "source": [
    "import pandas as pd\n",
    "\n",
    "data = {'Name': ['Alice', 'Bob', 'Charlie'],\n",
    "        'Age': [25, 30, 35]}\n",
    "\n",
    "df = pd.DataFrame(data)\n",
    "\n",
    "for index, row in df.iterrows():\n",
    "    print(f'Index: {index}, Name: {row[\"Name\"]}, Age: {row[\"Age\"]}')\n",
    "\n",
    "for row in df.itertuples(index=False):\n",
    "    print(f'Name: {row.Name}, Age: {row.Age}')"
   ]
  },
  {
   "cell_type": "code",
   "execution_count": null,
   "metadata": {},
   "outputs": [],
   "source": []
  }
 ],
 "metadata": {
  "kernelspec": {
   "display_name": "tradingInterface",
   "language": "python",
   "name": "python3"
  },
  "language_info": {
   "codemirror_mode": {
    "name": "ipython",
    "version": 3
   },
   "file_extension": ".py",
   "mimetype": "text/x-python",
   "name": "python",
   "nbconvert_exporter": "python",
   "pygments_lexer": "ipython3",
   "version": "3.10.12"
  },
  "orig_nbformat": 4
 },
 "nbformat": 4,
 "nbformat_minor": 2
}
